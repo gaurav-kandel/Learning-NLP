{
 "cells": [
  {
   "cell_type": "markdown",
   "metadata": {},
   "source": [
    "***\n",
    "Welcome! \n",
    "\n",
    "In this Notebook we will explore how to read external files into Python - particularly CSV and TXT files.\n",
    "***"
   ]
  },
  {
   "cell_type": "markdown",
   "metadata": {},
   "source": [
    "### Index:"
   ]
  },
  {
   "cell_type": "markdown",
   "metadata": {},
   "source": [
    "[1.1 - Reading CSV Files](#1.1---Reading-CSV-Files)\n",
    "<br>\n",
    "[1.2 - Reading TXT Files](#1.2---Reading-TXT-Files)\n"
   ]
  },
  {
   "cell_type": "code",
   "execution_count": 1,
   "metadata": {},
   "outputs": [],
   "source": [
    "# Let's load the Pandas library\n",
    "import pandas as pd\n",
    "\n",
    "# Importing the csv library\n",
    "import csv"
   ]
  },
  {
   "cell_type": "markdown",
   "metadata": {},
   "source": [
    "### 1.1 - Reading CSV Files"
   ]
  },
  {
   "cell_type": "markdown",
   "metadata": {},
   "source": [
    "Let's first check the folders we have available on where the notebook is located:"
   ]
  },
  {
   "cell_type": "code",
   "execution_count": 2,
   "metadata": {
    "scrolled": true
   },
   "outputs": [
    {
     "name": "stdout",
     "output_type": "stream",
     "text": [
      " Volume in drive C is Windows-SSD\n",
      " Volume Serial Number is 745F-D042\n",
      "\n",
      " Directory of C:\\Users\\ivopb\\Google Drive\\Courses Instruction\\Natural Language Processing in Python\\05 - Importing Text Data to Python\n",
      "\n",
      "19/04/2021  18:18    <DIR>          .\n",
      "19/04/2021  18:18    <DIR>          ..\n",
      "19/04/2021  18:19    <DIR>          .ipynb_checkpoints\n",
      "20/03/2021  20:05            39�511 01 - Reading Data from CSV and TXT Files.ipynb\n",
      "23/03/2021  23:38         1�389�319 02 - Scraping Data from the Web.ipynb\n",
      "27/03/2021  01:24            14�126 03 - Using API's.ipynb\n",
      "19/04/2021  18:19    <DIR>          data\n",
      "03/04/2021  22:00            10�798 Exercises - Importing Text Data - Solutions.ipynb\n",
      "03/04/2021  22:02            10�365 Exercises - Importing Text Data.ipynb\n",
      "19/04/2021  18:20    <DIR>          exercise_data\n",
      "               5 File(s)      1�464�119 bytes\n",
      "               5 Dir(s)  65�761�685�504 bytes free\n"
     ]
    }
   ],
   "source": [
    "!dir"
   ]
  },
  {
   "cell_type": "markdown",
   "metadata": {},
   "source": [
    "I have a folder name data next to this notebook - this is where our file is located:"
   ]
  },
  {
   "cell_type": "code",
   "execution_count": 3,
   "metadata": {},
   "outputs": [
    {
     "name": "stdout",
     "output_type": "stream",
     "text": [
      " Volume in drive C is Windows-SSD\n",
      " Volume Serial Number is 745F-D042\n",
      "\n",
      " Directory of C:\\Users\\ivopb\\Google Drive\\Courses Instruction\\Natural Language Processing in Python\\05 - Importing Text Data to Python\\data\n",
      "\n",
      "19/04/2021  18:19    <DIR>          .\n",
      "19/04/2021  18:19    <DIR>          ..\n",
      "16/02/2004  02:49             4�316 cv042_10982.txt\n",
      "16/12/2019  21:36           987�712 tweets_data.csv\n",
      "               2 File(s)        992�028 bytes\n",
      "               2 Dir(s)  65�751�945�216 bytes free\n"
     ]
    }
   ],
   "source": [
    "!dir data"
   ]
  },
  {
   "cell_type": "markdown",
   "metadata": {},
   "source": [
    "Inside this folder, we have a *tweets_data.csv file*, let's load it using pandas and using python base:"
   ]
  },
  {
   "cell_type": "markdown",
   "metadata": {
    "scrolled": true
   },
   "source": [
    "Using pandas is really simple:"
   ]
  },
  {
   "cell_type": "code",
   "execution_count": 4,
   "metadata": {},
   "outputs": [
    {
     "data": {
      "text/html": [
       "<div>\n",
       "<style scoped>\n",
       "    .dataframe tbody tr th:only-of-type {\n",
       "        vertical-align: middle;\n",
       "    }\n",
       "\n",
       "    .dataframe tbody tr th {\n",
       "        vertical-align: top;\n",
       "    }\n",
       "\n",
       "    .dataframe thead th {\n",
       "        text-align: right;\n",
       "    }\n",
       "</style>\n",
       "<table border=\"1\" class=\"dataframe\">\n",
       "  <thead>\n",
       "    <tr style=\"text-align: right;\">\n",
       "      <th></th>\n",
       "      <th>id</th>\n",
       "      <th>keyword</th>\n",
       "      <th>location</th>\n",
       "      <th>text</th>\n",
       "      <th>target</th>\n",
       "    </tr>\n",
       "  </thead>\n",
       "  <tbody>\n",
       "    <tr>\n",
       "      <th>0</th>\n",
       "      <td>1</td>\n",
       "      <td>NaN</td>\n",
       "      <td>NaN</td>\n",
       "      <td>Our Deeds are the Reason of this #earthquake M...</td>\n",
       "      <td>1</td>\n",
       "    </tr>\n",
       "    <tr>\n",
       "      <th>1</th>\n",
       "      <td>4</td>\n",
       "      <td>NaN</td>\n",
       "      <td>NaN</td>\n",
       "      <td>Forest fire near La Ronge Sask. Canada</td>\n",
       "      <td>1</td>\n",
       "    </tr>\n",
       "    <tr>\n",
       "      <th>2</th>\n",
       "      <td>5</td>\n",
       "      <td>NaN</td>\n",
       "      <td>NaN</td>\n",
       "      <td>All residents asked to 'shelter in place' are ...</td>\n",
       "      <td>1</td>\n",
       "    </tr>\n",
       "    <tr>\n",
       "      <th>3</th>\n",
       "      <td>6</td>\n",
       "      <td>NaN</td>\n",
       "      <td>NaN</td>\n",
       "      <td>13,000 people receive #wildfires evacuation or...</td>\n",
       "      <td>1</td>\n",
       "    </tr>\n",
       "    <tr>\n",
       "      <th>4</th>\n",
       "      <td>7</td>\n",
       "      <td>NaN</td>\n",
       "      <td>NaN</td>\n",
       "      <td>Just got sent this photo from Ruby #Alaska as ...</td>\n",
       "      <td>1</td>\n",
       "    </tr>\n",
       "    <tr>\n",
       "      <th>...</th>\n",
       "      <td>...</td>\n",
       "      <td>...</td>\n",
       "      <td>...</td>\n",
       "      <td>...</td>\n",
       "      <td>...</td>\n",
       "    </tr>\n",
       "    <tr>\n",
       "      <th>7608</th>\n",
       "      <td>10869</td>\n",
       "      <td>NaN</td>\n",
       "      <td>NaN</td>\n",
       "      <td>Two giant cranes holding a bridge collapse int...</td>\n",
       "      <td>1</td>\n",
       "    </tr>\n",
       "    <tr>\n",
       "      <th>7609</th>\n",
       "      <td>10870</td>\n",
       "      <td>NaN</td>\n",
       "      <td>NaN</td>\n",
       "      <td>@aria_ahrary @TheTawniest The out of control w...</td>\n",
       "      <td>1</td>\n",
       "    </tr>\n",
       "    <tr>\n",
       "      <th>7610</th>\n",
       "      <td>10871</td>\n",
       "      <td>NaN</td>\n",
       "      <td>NaN</td>\n",
       "      <td>M1.94 [01:04 UTC]?5km S of Volcano Hawaii. htt...</td>\n",
       "      <td>1</td>\n",
       "    </tr>\n",
       "    <tr>\n",
       "      <th>7611</th>\n",
       "      <td>10872</td>\n",
       "      <td>NaN</td>\n",
       "      <td>NaN</td>\n",
       "      <td>Police investigating after an e-bike collided ...</td>\n",
       "      <td>1</td>\n",
       "    </tr>\n",
       "    <tr>\n",
       "      <th>7612</th>\n",
       "      <td>10873</td>\n",
       "      <td>NaN</td>\n",
       "      <td>NaN</td>\n",
       "      <td>The Latest: More Homes Razed by Northern Calif...</td>\n",
       "      <td>1</td>\n",
       "    </tr>\n",
       "  </tbody>\n",
       "</table>\n",
       "<p>7613 rows × 5 columns</p>\n",
       "</div>"
      ],
      "text/plain": [
       "         id keyword location  \\\n",
       "0         1     NaN      NaN   \n",
       "1         4     NaN      NaN   \n",
       "2         5     NaN      NaN   \n",
       "3         6     NaN      NaN   \n",
       "4         7     NaN      NaN   \n",
       "...     ...     ...      ...   \n",
       "7608  10869     NaN      NaN   \n",
       "7609  10870     NaN      NaN   \n",
       "7610  10871     NaN      NaN   \n",
       "7611  10872     NaN      NaN   \n",
       "7612  10873     NaN      NaN   \n",
       "\n",
       "                                                   text  target  \n",
       "0     Our Deeds are the Reason of this #earthquake M...       1  \n",
       "1                Forest fire near La Ronge Sask. Canada       1  \n",
       "2     All residents asked to 'shelter in place' are ...       1  \n",
       "3     13,000 people receive #wildfires evacuation or...       1  \n",
       "4     Just got sent this photo from Ruby #Alaska as ...       1  \n",
       "...                                                 ...     ...  \n",
       "7608  Two giant cranes holding a bridge collapse int...       1  \n",
       "7609  @aria_ahrary @TheTawniest The out of control w...       1  \n",
       "7610  M1.94 [01:04 UTC]?5km S of Volcano Hawaii. htt...       1  \n",
       "7611  Police investigating after an e-bike collided ...       1  \n",
       "7612  The Latest: More Homes Razed by Northern Calif...       1  \n",
       "\n",
       "[7613 rows x 5 columns]"
      ]
     },
     "execution_count": 4,
     "metadata": {},
     "output_type": "execute_result"
    }
   ],
   "source": [
    "# We can just provide a path to the read_csv function - the\n",
    "# returning element is a pandas dataframe\n",
    "pd.read_csv('./data/tweets_data.csv', sep=',')"
   ]
  },
  {
   "cell_type": "code",
   "execution_count": 5,
   "metadata": {
    "scrolled": false
   },
   "outputs": [
    {
     "ename": "UnicodeDecodeError",
     "evalue": "'charmap' codec can't decode byte 0x8f in position 2245: character maps to <undefined>",
     "output_type": "error",
     "traceback": [
      "\u001b[1;31m---------------------------------------------------------------------------\u001b[0m",
      "\u001b[1;31mUnicodeDecodeError\u001b[0m                        Traceback (most recent call last)",
      "\u001b[1;32m<ipython-input-5-e60e8fe094e6>\u001b[0m in \u001b[0;36m<module>\u001b[1;34m\u001b[0m\n\u001b[0;32m      2\u001b[0m     \u001b[0mcsv_f\u001b[0m \u001b[1;33m=\u001b[0m \u001b[0mcsv\u001b[0m\u001b[1;33m.\u001b[0m\u001b[0mDictReader\u001b[0m\u001b[1;33m(\u001b[0m\u001b[0mcsv_file\u001b[0m\u001b[1;33m)\u001b[0m\u001b[1;33m\u001b[0m\u001b[1;33m\u001b[0m\u001b[0m\n\u001b[0;32m      3\u001b[0m     \u001b[0mfile_data\u001b[0m \u001b[1;33m=\u001b[0m \u001b[1;33m[\u001b[0m\u001b[1;33m]\u001b[0m\u001b[1;33m\u001b[0m\u001b[1;33m\u001b[0m\u001b[0m\n\u001b[1;32m----> 4\u001b[1;33m     \u001b[1;32mfor\u001b[0m \u001b[0mrow\u001b[0m \u001b[1;32min\u001b[0m \u001b[0mcsv_f\u001b[0m\u001b[1;33m:\u001b[0m\u001b[1;33m\u001b[0m\u001b[1;33m\u001b[0m\u001b[0m\n\u001b[0m\u001b[0;32m      5\u001b[0m         \u001b[0mfile_data\u001b[0m\u001b[1;33m.\u001b[0m\u001b[0mappend\u001b[0m\u001b[1;33m(\u001b[0m\u001b[0mdict\u001b[0m\u001b[1;33m(\u001b[0m\u001b[0mrow\u001b[0m\u001b[1;33m)\u001b[0m\u001b[1;33m)\u001b[0m\u001b[1;33m\u001b[0m\u001b[1;33m\u001b[0m\u001b[0m\n",
      "\u001b[1;32m~\\.conda\\envs\\mlstanford\\lib\\csv.py\u001b[0m in \u001b[0;36m__next__\u001b[1;34m(self)\u001b[0m\n\u001b[0;32m    110\u001b[0m             \u001b[1;31m# Used only for its side effect.\u001b[0m\u001b[1;33m\u001b[0m\u001b[1;33m\u001b[0m\u001b[1;33m\u001b[0m\u001b[0m\n\u001b[0;32m    111\u001b[0m             \u001b[0mself\u001b[0m\u001b[1;33m.\u001b[0m\u001b[0mfieldnames\u001b[0m\u001b[1;33m\u001b[0m\u001b[1;33m\u001b[0m\u001b[0m\n\u001b[1;32m--> 112\u001b[1;33m         \u001b[0mrow\u001b[0m \u001b[1;33m=\u001b[0m \u001b[0mnext\u001b[0m\u001b[1;33m(\u001b[0m\u001b[0mself\u001b[0m\u001b[1;33m.\u001b[0m\u001b[0mreader\u001b[0m\u001b[1;33m)\u001b[0m\u001b[1;33m\u001b[0m\u001b[1;33m\u001b[0m\u001b[0m\n\u001b[0m\u001b[0;32m    113\u001b[0m         \u001b[0mself\u001b[0m\u001b[1;33m.\u001b[0m\u001b[0mline_num\u001b[0m \u001b[1;33m=\u001b[0m \u001b[0mself\u001b[0m\u001b[1;33m.\u001b[0m\u001b[0mreader\u001b[0m\u001b[1;33m.\u001b[0m\u001b[0mline_num\u001b[0m\u001b[1;33m\u001b[0m\u001b[1;33m\u001b[0m\u001b[0m\n\u001b[0;32m    114\u001b[0m \u001b[1;33m\u001b[0m\u001b[0m\n",
      "\u001b[1;32m~\\.conda\\envs\\mlstanford\\lib\\encodings\\cp1252.py\u001b[0m in \u001b[0;36mdecode\u001b[1;34m(self, input, final)\u001b[0m\n\u001b[0;32m     21\u001b[0m \u001b[1;32mclass\u001b[0m \u001b[0mIncrementalDecoder\u001b[0m\u001b[1;33m(\u001b[0m\u001b[0mcodecs\u001b[0m\u001b[1;33m.\u001b[0m\u001b[0mIncrementalDecoder\u001b[0m\u001b[1;33m)\u001b[0m\u001b[1;33m:\u001b[0m\u001b[1;33m\u001b[0m\u001b[1;33m\u001b[0m\u001b[0m\n\u001b[0;32m     22\u001b[0m     \u001b[1;32mdef\u001b[0m \u001b[0mdecode\u001b[0m\u001b[1;33m(\u001b[0m\u001b[0mself\u001b[0m\u001b[1;33m,\u001b[0m \u001b[0minput\u001b[0m\u001b[1;33m,\u001b[0m \u001b[0mfinal\u001b[0m\u001b[1;33m=\u001b[0m\u001b[1;32mFalse\u001b[0m\u001b[1;33m)\u001b[0m\u001b[1;33m:\u001b[0m\u001b[1;33m\u001b[0m\u001b[1;33m\u001b[0m\u001b[0m\n\u001b[1;32m---> 23\u001b[1;33m         \u001b[1;32mreturn\u001b[0m \u001b[0mcodecs\u001b[0m\u001b[1;33m.\u001b[0m\u001b[0mcharmap_decode\u001b[0m\u001b[1;33m(\u001b[0m\u001b[0minput\u001b[0m\u001b[1;33m,\u001b[0m\u001b[0mself\u001b[0m\u001b[1;33m.\u001b[0m\u001b[0merrors\u001b[0m\u001b[1;33m,\u001b[0m\u001b[0mdecoding_table\u001b[0m\u001b[1;33m)\u001b[0m\u001b[1;33m[\u001b[0m\u001b[1;36m0\u001b[0m\u001b[1;33m]\u001b[0m\u001b[1;33m\u001b[0m\u001b[1;33m\u001b[0m\u001b[0m\n\u001b[0m\u001b[0;32m     24\u001b[0m \u001b[1;33m\u001b[0m\u001b[0m\n\u001b[0;32m     25\u001b[0m \u001b[1;32mclass\u001b[0m \u001b[0mStreamWriter\u001b[0m\u001b[1;33m(\u001b[0m\u001b[0mCodec\u001b[0m\u001b[1;33m,\u001b[0m\u001b[0mcodecs\u001b[0m\u001b[1;33m.\u001b[0m\u001b[0mStreamWriter\u001b[0m\u001b[1;33m)\u001b[0m\u001b[1;33m:\u001b[0m\u001b[1;33m\u001b[0m\u001b[1;33m\u001b[0m\u001b[0m\n",
      "\u001b[1;31mUnicodeDecodeError\u001b[0m: 'charmap' codec can't decode byte 0x8f in position 2245: character maps to <undefined>"
     ]
    }
   ],
   "source": [
    "with open('./data/tweets_data.csv', mode='r') as csv_file:\n",
    "    csv_f = csv.DictReader(csv_file)  \n",
    "    file_data = []\n",
    "    for row in csv_f:\n",
    "        file_data.append(dict(row))"
   ]
  },
  {
   "cell_type": "markdown",
   "metadata": {},
   "source": [
    "Encodings can sometime give us some trouble:"
   ]
  },
  {
   "cell_type": "code",
   "execution_count": 6,
   "metadata": {},
   "outputs": [],
   "source": [
    "with open('./data/tweets_data.csv', mode='r', encoding=\"utf-8\") as csv_file:\n",
    "    csv_f = csv.DictReader(csv_file)  \n",
    "    file_data = []\n",
    "    for row in csv_f:\n",
    "        file_data.append(dict(row))\n"
   ]
  },
  {
   "cell_type": "code",
   "execution_count": 7,
   "metadata": {},
   "outputs": [
    {
     "data": {
      "text/plain": [
       "{'id': '5',\n",
       " 'keyword': '',\n",
       " 'location': '',\n",
       " 'text': \"All residents asked to 'shelter in place' are being notified by officers. No other evacuation or shelter in place orders are expected\",\n",
       " 'target': '1'}"
      ]
     },
     "execution_count": 7,
     "metadata": {},
     "output_type": "execute_result"
    }
   ],
   "source": [
    "file_data[2]"
   ]
  },
  {
   "cell_type": "markdown",
   "metadata": {},
   "source": [
    "If we would want to read the text from this dictionary:"
   ]
  },
  {
   "cell_type": "code",
   "execution_count": 8,
   "metadata": {},
   "outputs": [
    {
     "data": {
      "text/plain": [
       "\"All residents asked to 'shelter in place' are being notified by officers. No other evacuation or shelter in place orders are expected\""
      ]
     },
     "execution_count": 8,
     "metadata": {},
     "output_type": "execute_result"
    }
   ],
   "source": [
    "file_data[2]['text']"
   ]
  },
  {
   "cell_type": "markdown",
   "metadata": {},
   "source": [
    "### 1.2 - Reading TXT Files"
   ]
  },
  {
   "cell_type": "markdown",
   "metadata": {},
   "source": [
    "To read txt files into Python we can also use the same logic:\n",
    "    - Read using the Pandas Library;\n",
    "    - Read using base Python;"
   ]
  },
  {
   "cell_type": "code",
   "execution_count": 9,
   "metadata": {},
   "outputs": [
    {
     "data": {
      "text/html": [
       "<div>\n",
       "<style scoped>\n",
       "    .dataframe tbody tr th:only-of-type {\n",
       "        vertical-align: middle;\n",
       "    }\n",
       "\n",
       "    .dataframe tbody tr th {\n",
       "        vertical-align: top;\n",
       "    }\n",
       "\n",
       "    .dataframe thead th {\n",
       "        text-align: right;\n",
       "    }\n",
       "</style>\n",
       "<table border=\"1\" class=\"dataframe\">\n",
       "  <thead>\n",
       "    <tr style=\"text-align: right;\">\n",
       "      <th></th>\n",
       "      <th>will hunting ( matt damon ) is a natural genius .</th>\n",
       "    </tr>\n",
       "  </thead>\n",
       "  <tbody>\n",
       "    <tr>\n",
       "      <th>0</th>\n",
       "      <td>for a movie character , that's usually a death...</td>\n",
       "    </tr>\n",
       "    <tr>\n",
       "      <th>1</th>\n",
       "      <td>it's a trait associated with what my brother c...</td>\n",
       "    </tr>\n",
       "    <tr>\n",
       "      <th>2</th>\n",
       "      <td>forgive me for spoiling the ending , but will ...</td>\n",
       "    </tr>\n",
       "    <tr>\n",
       "      <th>3</th>\n",
       "      <td>this is no formula movie .</td>\n",
       "    </tr>\n",
       "    <tr>\n",
       "      <th>4</th>\n",
       "      <td>in fact , it's quite fresh and original .</td>\n",
       "    </tr>\n",
       "    <tr>\n",
       "      <th>5</th>\n",
       "      <td>it's a character study more than anything , an...</td>\n",
       "    </tr>\n",
       "    <tr>\n",
       "      <th>6</th>\n",
       "      <td>will works whatever kind of job he can get .</td>\n",
       "    </tr>\n",
       "    <tr>\n",
       "      <th>7</th>\n",
       "      <td>first he's a janitor , then he works construct...</td>\n",
       "    </tr>\n",
       "    <tr>\n",
       "      <th>8</th>\n",
       "      <td>off-screen he speed reads books on any academi...</td>\n",
       "    </tr>\n",
       "    <tr>\n",
       "      <th>9</th>\n",
       "      <td>on-screen he hangs out with his friends , pick...</td>\n",
       "    </tr>\n",
       "    <tr>\n",
       "      <th>10</th>\n",
       "      <td>lambeau ( stellan skarsgard from breaking the ...</td>\n",
       "    </tr>\n",
       "    <tr>\n",
       "      <th>11</th>\n",
       "      <td>having confirmed he's not a fluke or a savant ...</td>\n",
       "    </tr>\n",
       "    <tr>\n",
       "      <th>12</th>\n",
       "      <td>he is firmly rejected .</td>\n",
       "    </tr>\n",
       "    <tr>\n",
       "      <th>13</th>\n",
       "      <td>finally , will lands in jail for one of his fi...</td>\n",
       "    </tr>\n",
       "    <tr>\n",
       "      <th>14</th>\n",
       "      <td>lambeau can get him probation instead of priso...</td>\n",
       "    </tr>\n",
       "    <tr>\n",
       "      <th>15</th>\n",
       "      <td>will ( barely ) decides to go for the therapy ...</td>\n",
       "    </tr>\n",
       "    <tr>\n",
       "      <th>16</th>\n",
       "      <td>lambeau treats will like a son .</td>\n",
       "    </tr>\n",
       "    <tr>\n",
       "      <th>17</th>\n",
       "      <td>he's proud of , and amazed by , will's accompl...</td>\n",
       "    </tr>\n",
       "    <tr>\n",
       "      <th>18</th>\n",
       "      <td>he encourages will and tries to give him struc...</td>\n",
       "    </tr>\n",
       "    <tr>\n",
       "      <th>19</th>\n",
       "      <td>will isn't really interested in academia .</td>\n",
       "    </tr>\n",
       "    <tr>\n",
       "      <th>20</th>\n",
       "      <td>he knows he would be the best in his field , a...</td>\n",
       "    </tr>\n",
       "    <tr>\n",
       "      <th>21</th>\n",
       "      <td>he would rather work construction , which brea...</td>\n",
       "    </tr>\n",
       "    <tr>\n",
       "      <th>22</th>\n",
       "      <td>meanwhile , will attends his mandated therapy ...</td>\n",
       "    </tr>\n",
       "    <tr>\n",
       "      <th>23</th>\n",
       "      <td>it's not long before he shreds all the therapi...</td>\n",
       "    </tr>\n",
       "    <tr>\n",
       "      <th>24</th>\n",
       "      <td>will has read enough psychology to know the tr...</td>\n",
       "    </tr>\n",
       "    <tr>\n",
       "      <th>25</th>\n",
       "      <td>shrink after shrink refuses to return after wi...</td>\n",
       "    </tr>\n",
       "    <tr>\n",
       "      <th>26</th>\n",
       "      <td>lambeau's last hope is his old college roommat...</td>\n",
       "    </tr>\n",
       "    <tr>\n",
       "      <th>27</th>\n",
       "      <td>knowing that will is going to try to shred him...</td>\n",
       "    </tr>\n",
       "    <tr>\n",
       "      <th>28</th>\n",
       "      <td>true to form , will finds sean's emotional wea...</td>\n",
       "    </tr>\n",
       "    <tr>\n",
       "      <th>29</th>\n",
       "      <td>but unlike the other shrinks , sean knows what...</td>\n",
       "    </tr>\n",
       "    <tr>\n",
       "      <th>30</th>\n",
       "      <td>like a foster mother with a fussy child , sean...</td>\n",
       "    </tr>\n",
       "    <tr>\n",
       "      <th>31</th>\n",
       "      <td>like the foster mother , sean knows that time ...</td>\n",
       "    </tr>\n",
       "    <tr>\n",
       "      <th>32</th>\n",
       "      <td>robin williams is excellent in this role .</td>\n",
       "    </tr>\n",
       "    <tr>\n",
       "      <th>33</th>\n",
       "      <td>he's not an actor with a great range , but in ...</td>\n",
       "    </tr>\n",
       "    <tr>\n",
       "      <th>34</th>\n",
       "      <td>in this movie , as in awakenings , there comes...</td>\n",
       "    </tr>\n",
       "    <tr>\n",
       "      <th>35</th>\n",
       "      <td>williams is the only actor i can name who can ...</td>\n",
       "    </tr>\n",
       "    <tr>\n",
       "      <th>36</th>\n",
       "      <td>i have compared will to a foster child and tha...</td>\n",
       "    </tr>\n",
       "    <tr>\n",
       "      <th>37</th>\n",
       "      <td>emotionally , he has a lot to learn , but he i...</td>\n",
       "    </tr>\n",
       "    <tr>\n",
       "      <th>38</th>\n",
       "      <td>he has thought about his life and made rationa...</td>\n",
       "    </tr>\n",
       "    <tr>\n",
       "      <th>39</th>\n",
       "      <td>sean , his girlfriend , his pals , and lambeau...</td>\n",
       "    </tr>\n",
       "    <tr>\n",
       "      <th>40</th>\n",
       "      <td>his exceptional gift singled him out , and tho...</td>\n",
       "    </tr>\n",
       "    <tr>\n",
       "      <th>41</th>\n",
       "      <td>if i had to say anything bad about good will h...</td>\n",
       "    </tr>\n",
       "    <tr>\n",
       "      <th>42</th>\n",
       "      <td>it's too sentimental and uplifiting for a stra...</td>\n",
       "    </tr>\n",
       "    <tr>\n",
       "      <th>43</th>\n",
       "      <td>it is emotionally engaging , but it's not quit...</td>\n",
       "    </tr>\n",
       "    <tr>\n",
       "      <th>44</th>\n",
       "      <td>this isn't a problem per se , but at times i d...</td>\n",
       "    </tr>\n",
       "    <tr>\n",
       "      <th>45</th>\n",
       "      <td>but this is a relatively small complaint about...</td>\n",
       "    </tr>\n",
       "    <tr>\n",
       "      <th>46</th>\n",
       "      <td>a good movie allows its characters to learn an...</td>\n",
       "    </tr>\n",
       "    <tr>\n",
       "      <th>47</th>\n",
       "      <td>it doesn't just happen ; it takes a good scrip...</td>\n",
       "    </tr>\n",
       "    <tr>\n",
       "      <th>48</th>\n",
       "      <td>good will hunting has all three .</td>\n",
       "    </tr>\n",
       "    <tr>\n",
       "      <th>49</th>\n",
       "      <td>if you are at all inclined to see it , by all ...</td>\n",
       "    </tr>\n",
       "  </tbody>\n",
       "</table>\n",
       "</div>"
      ],
      "text/plain": [
       "   will hunting ( matt damon ) is a natural genius . \n",
       "0   for a movie character , that's usually a death...\n",
       "1   it's a trait associated with what my brother c...\n",
       "2   forgive me for spoiling the ending , but will ...\n",
       "3                         this is no formula movie . \n",
       "4          in fact , it's quite fresh and original . \n",
       "5   it's a character study more than anything , an...\n",
       "6       will works whatever kind of job he can get . \n",
       "7   first he's a janitor , then he works construct...\n",
       "8   off-screen he speed reads books on any academi...\n",
       "9   on-screen he hangs out with his friends , pick...\n",
       "10  lambeau ( stellan skarsgard from breaking the ...\n",
       "11  having confirmed he's not a fluke or a savant ...\n",
       "12                           he is firmly rejected . \n",
       "13  finally , will lands in jail for one of his fi...\n",
       "14  lambeau can get him probation instead of priso...\n",
       "15  will ( barely ) decides to go for the therapy ...\n",
       "16                  lambeau treats will like a son . \n",
       "17  he's proud of , and amazed by , will's accompl...\n",
       "18  he encourages will and tries to give him struc...\n",
       "19        will isn't really interested in academia . \n",
       "20  he knows he would be the best in his field , a...\n",
       "21  he would rather work construction , which brea...\n",
       "22  meanwhile , will attends his mandated therapy ...\n",
       "23  it's not long before he shreds all the therapi...\n",
       "24  will has read enough psychology to know the tr...\n",
       "25  shrink after shrink refuses to return after wi...\n",
       "26  lambeau's last hope is his old college roommat...\n",
       "27  knowing that will is going to try to shred him...\n",
       "28  true to form , will finds sean's emotional wea...\n",
       "29  but unlike the other shrinks , sean knows what...\n",
       "30  like a foster mother with a fussy child , sean...\n",
       "31  like the foster mother , sean knows that time ...\n",
       "32        robin williams is excellent in this role . \n",
       "33  he's not an actor with a great range , but in ...\n",
       "34  in this movie , as in awakenings , there comes...\n",
       "35  williams is the only actor i can name who can ...\n",
       "36  i have compared will to a foster child and tha...\n",
       "37  emotionally , he has a lot to learn , but he i...\n",
       "38  he has thought about his life and made rationa...\n",
       "39  sean , his girlfriend , his pals , and lambeau...\n",
       "40  his exceptional gift singled him out , and tho...\n",
       "41  if i had to say anything bad about good will h...\n",
       "42  it's too sentimental and uplifiting for a stra...\n",
       "43  it is emotionally engaging , but it's not quit...\n",
       "44  this isn't a problem per se , but at times i d...\n",
       "45  but this is a relatively small complaint about...\n",
       "46  a good movie allows its characters to learn an...\n",
       "47  it doesn't just happen ; it takes a good scrip...\n",
       "48                 good will hunting has all three . \n",
       "49  if you are at all inclined to see it , by all ..."
      ]
     },
     "execution_count": 9,
     "metadata": {},
     "output_type": "execute_result"
    }
   ],
   "source": [
    "# Reading some text files using Pandas (if it is not a comma separated\n",
    "# text) may get weird:\n",
    "pd.read_csv('./data/cv042_10982.txt', sep = '\\t')"
   ]
  },
  {
   "cell_type": "code",
   "execution_count": 10,
   "metadata": {},
   "outputs": [
    {
     "name": "stdout",
     "output_type": "stream",
     "text": [
      "will hunting ( matt damon ) is a natural genius . \n",
      "for a movie character , that's usually a death sentence . \n",
      "it's a trait associated with what my brother calls \" too good for this world \" movies , like phenomenon or powder . \n",
      "forgive me for spoiling the ending , but will doesn't die . \n",
      "this is no formula movie . \n",
      "in fact , it's quite fresh and original . \n",
      "it's a character study more than anything , and that's not surprising , considering it was written by two actors : damon and co-star ben affleck . \n",
      "will works whatever kind of job he can get . \n",
      "first he's a janitor , then he works construction . \n",
      "off-screen he speed reads books on any academic subject that interests him . \n",
      "on-screen he hangs out with his friends , picking fights in robust , romanticized-hemingway fashion . \n",
      "lambeau ( stellan skarsgard from breaking the waves ) , a math professor , learns that the janitor ( will ) is a genius with a special talent for advanced mathematics . \n",
      "having confirmed he's not a fluke or a savant , he does what he can to get will into the education system . \n",
      "he is firmly rejected . \n",
      "finally , will lands in jail for one of his fights . \n",
      "lambeau can get him probation instead of prison time as long as will agrees to therapy sessions and to discussing mathematics with him . \n",
      "will ( barely ) decides to go for the therapy over prison . \n",
      "lambeau treats will like a son . \n",
      "he's proud of , and amazed by , will's accomplishments in mathematics . \n",
      "he encourages will and tries to give him structure , knowing that , with a little discipline , he could be bigger than einstein . \n",
      "will isn't really interested in academia . \n",
      "he knows he would be the best in his field , and therefore spend all of his time in an office , explaining math to people like lambeau . \n",
      "he would rather work construction , which breaks lambeau's heart . \n",
      "meanwhile , will attends his mandated therapy sessions . \n",
      "it's not long before he shreds all the therapists on lambeau's \" a \" list . \n",
      "will has read enough psychology to know the tricks of the trade , and how to keep them from affecting him . \n",
      "shrink after shrink refuses to return after will's mockery . \n",
      "lambeau's last hope is his old college roommate , now a psychology teacher at a small-time community college . \n",
      "knowing that will is going to try to shred him too , sean ( robin williams ) agrees to take him on as a favor to lambeau and for the chance to meet this next einstein . \n",
      "true to form , will finds sean's emotional weakness and attacks . \n",
      "but unlike the other shrinks , sean knows what he is in for and continues the sessions . \n",
      "like a foster mother with a fussy child , sean knows that the attacks are defensive and is able to take them in stride . \n",
      "like the foster mother , sean knows that time and quiet patience is the only approach . \n",
      "robin williams is excellent in this role . \n",
      "he's not an actor with a great range , but in the right roles he has great depth . \n",
      "in this movie , as in awakenings , there comes a point when the quiet , shy man accomplishes something of great personal importance , and a smile of pure joy spreads up to his eyes . \n",
      "williams is the only actor i can name who can make an audience cry just by smiling . \n",
      "i have compared will to a foster child and that's not entirely fair . \n",
      "emotionally , he has a lot to learn , but he is not a child . \n",
      "he has thought about his life and made rational decisions about what he wants . \n",
      "sean , his girlfriend , his pals , and lambeau all help him grow , but he didn't start out asking for , or particularly needing , help . \n",
      "his exceptional gift singled him out , and those who love him kept pushing him in the right direction . \n",
      "if i had to say anything bad about good will hunting is that it walks the line between drama and melodrama . \n",
      "it's too sentimental and uplifiting for a straight drama , but the emotions are too subtle for melodrama . \n",
      "it is emotionally engaging , but it's not quite larger than life . \n",
      "this isn't a problem per se , but at times i didn't know quite how to take it . \n",
      "but this is a relatively small complaint about a very good movie . \n",
      "a good movie allows its characters to learn and grow . \n",
      "it doesn't just happen ; it takes a good script , good acting , and good direction . \n",
      "good will hunting has all three . \n",
      "if you are at all inclined to see it , by all means , go . \n",
      "\n"
     ]
    }
   ],
   "source": [
    "f = open(\"./data/cv042_10982.txt\", \"r\")\n",
    "print(f.read())\n",
    "# After using read you can't assign the text\n",
    "# to a value\n",
    "text = f.read()\n",
    "f.close()"
   ]
  },
  {
   "cell_type": "code",
   "execution_count": 11,
   "metadata": {},
   "outputs": [],
   "source": [
    "f = open(\"./data/cv042_10982.txt\", \"r\")\n",
    "movie_review = f.read()"
   ]
  },
  {
   "cell_type": "code",
   "execution_count": 12,
   "metadata": {
    "scrolled": true
   },
   "outputs": [
    {
     "name": "stdout",
     "output_type": "stream",
     "text": [
      "will hunting ( matt damon ) is a natural genius . \n",
      "for a movie character , that's usually a death sentence . \n",
      "it's a trait associated with what my brother calls \" too good for this world \" movies , like phenomenon or powder . \n",
      "forgive me for spoiling the ending , but will doesn't die . \n",
      "this is no formula movie . \n",
      "in fact , it's quite fresh and original . \n",
      "it's a character study more than anything , and that's not surprising , considering it was written by two actors : damon and co-star ben affleck . \n",
      "will works whatever kind of job he can get . \n",
      "first he's a janitor , then he works construction . \n",
      "off-screen he speed reads books on any academic subject that interests him . \n",
      "on-screen he hangs out with his friends , picking fights in robust , romanticized-hemingway fashion . \n",
      "lambeau ( stellan skarsgard from breaking the waves ) , a math professor , learns that the janitor ( will ) is a genius with a special talent for advanced mathematics . \n",
      "having confirmed he's not a fluke or a savant , he does what he can to get will into the education system . \n",
      "he is firmly rejected . \n",
      "finally , will lands in jail for one of his fights . \n",
      "lambeau can get him probation instead of prison time as long as will agrees to therapy sessions and to discussing mathematics with him . \n",
      "will ( barely ) decides to go for the therapy over prison . \n",
      "lambeau treats will like a son . \n",
      "he's proud of , and amazed by , will's accomplishments in mathematics . \n",
      "he encourages will and tries to give him structure , knowing that , with a little discipline , he could be bigger than einstein . \n",
      "will isn't really interested in academia . \n",
      "he knows he would be the best in his field , and therefore spend all of his time in an office , explaining math to people like lambeau . \n",
      "he would rather work construction , which breaks lambeau's heart . \n",
      "meanwhile , will attends his mandated therapy sessions . \n",
      "it's not long before he shreds all the therapists on lambeau's \" a \" list . \n",
      "will has read enough psychology to know the tricks of the trade , and how to keep them from affecting him . \n",
      "shrink after shrink refuses to return after will's mockery . \n",
      "lambeau's last hope is his old college roommate , now a psychology teacher at a small-time community college . \n",
      "knowing that will is going to try to shred him too , sean ( robin williams ) agrees to take him on as a favor to lambeau and for the chance to meet this next einstein . \n",
      "true to form , will finds sean's emotional weakness and attacks . \n",
      "but unlike the other shrinks , sean knows what he is in for and continues the sessions . \n",
      "like a foster mother with a fussy child , sean knows that the attacks are defensive and is able to take them in stride . \n",
      "like the foster mother , sean knows that time and quiet patience is the only approach . \n",
      "robin williams is excellent in this role . \n",
      "he's not an actor with a great range , but in the right roles he has great depth . \n",
      "in this movie , as in awakenings , there comes a point when the quiet , shy man accomplishes something of great personal importance , and a smile of pure joy spreads up to his eyes . \n",
      "williams is the only actor i can name who can make an audience cry just by smiling . \n",
      "i have compared will to a foster child and that's not entirely fair . \n",
      "emotionally , he has a lot to learn , but he is not a child . \n",
      "he has thought about his life and made rational decisions about what he wants . \n",
      "sean , his girlfriend , his pals , and lambeau all help him grow , but he didn't start out asking for , or particularly needing , help . \n",
      "his exceptional gift singled him out , and those who love him kept pushing him in the right direction . \n",
      "if i had to say anything bad about good will hunting is that it walks the line between drama and melodrama . \n",
      "it's too sentimental and uplifiting for a straight drama , but the emotions are too subtle for melodrama . \n",
      "it is emotionally engaging , but it's not quite larger than life . \n",
      "this isn't a problem per se , but at times i didn't know quite how to take it . \n",
      "but this is a relatively small complaint about a very good movie . \n",
      "a good movie allows its characters to learn and grow . \n",
      "it doesn't just happen ; it takes a good script , good acting , and good direction . \n",
      "good will hunting has all three . \n",
      "if you are at all inclined to see it , by all means , go . \n",
      "\n"
     ]
    }
   ],
   "source": [
    "print(movie_review)"
   ]
  },
  {
   "cell_type": "markdown",
   "metadata": {},
   "source": [
    "We can now work this text as any other text that we have worked with, let's confirm it with the type of the object:"
   ]
  },
  {
   "cell_type": "code",
   "execution_count": 13,
   "metadata": {},
   "outputs": [
    {
     "data": {
      "text/plain": [
       "str"
      ]
     },
     "execution_count": 13,
     "metadata": {},
     "output_type": "execute_result"
    }
   ],
   "source": [
    "type(movie_review)"
   ]
  }
 ],
 "metadata": {
  "kernelspec": {
   "display_name": "Python 3.7.7 64-bit ('mlstanford': conda)",
   "language": "python",
   "name": "python37764bitmlstanfordcondae7887558efda4a86a663a84c2252353c"
  },
  "language_info": {
   "codemirror_mode": {
    "name": "ipython",
    "version": 3
   },
   "file_extension": ".py",
   "mimetype": "text/x-python",
   "name": "python",
   "nbconvert_exporter": "python",
   "pygments_lexer": "ipython3",
   "version": "3.7.7"
  }
 },
 "nbformat": 4,
 "nbformat_minor": 2
}
