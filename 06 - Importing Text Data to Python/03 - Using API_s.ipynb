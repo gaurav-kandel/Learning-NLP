{
 "cells": [
  {
   "cell_type": "markdown",
   "metadata": {},
   "source": [
    "***\n",
    "Welcome! \n",
    "\n",
    "In this Notebook we will explore an example of how can we access API's (Application Programming Interface) to extract some data.\n",
    "***"
   ]
  },
  {
   "cell_type": "markdown",
   "metadata": {},
   "source": [
    "### Index:"
   ]
  },
  {
   "cell_type": "markdown",
   "metadata": {},
   "source": [
    "[1.1 - Twitter API](#1.1---Twitter-API)\n",
    "<br>"
   ]
  },
  {
   "cell_type": "code",
   "execution_count": 2,
   "metadata": {},
   "outputs": [],
   "source": [
    "import tweepy"
   ]
  },
  {
   "cell_type": "markdown",
   "metadata": {},
   "source": [
    "### 1.1 - Twitter API"
   ]
  },
  {
   "cell_type": "markdown",
   "metadata": {},
   "source": [
    "One of the most common ways to access data is to use API's to get data from several applications or websites.\n",
    "<br>\n",
    "<br>\n",
    "A lot of API's require that you have some kind of Key that enable you to access the data and log yourself in the service. Some of these keys and API's may also be paid and some of them are even part of the business model of several websites."
   ]
  },
  {
   "cell_type": "markdown",
   "metadata": {},
   "source": [
    "In this example, we are going to use Tweepy (a Python Wrapper on the Twitter API).\n",
    "<br>\n",
    "<br>\n",
    "Here is a good resource on applying for a developer account and extracting more stuff from Twitter: https://realpython.com/twitter-bot-python-tweepy/"
   ]
  },
  {
   "cell_type": "markdown",
   "metadata": {},
   "source": [
    "Twitter API has 4 tokens that we need to pass on our Authentication - Below you have to pass your API key's after your developer account has been approved (if you want to run the code):"
   ]
  },
  {
   "cell_type": "code",
   "execution_count": 6,
   "metadata": {},
   "outputs": [],
   "source": [
    "API_K = 'YOUR API KEY'\n",
    "API_S = 'YOUR API SECRET'\n",
    "\n",
    "ACCESS_T = 'YOUR ACCESS TOKEN'\n",
    "ACCESS_S = 'YOUR ACCESS TOKEN SECRET'\n",
    "\n",
    "auth = tweepy.OAuthHandler(API_K, API_S)\n",
    "auth.set_access_token(ACCESS_T, ACCESS_S)"
   ]
  },
  {
   "cell_type": "markdown",
   "metadata": {},
   "source": [
    "Now that we've authenticated ourselves, let's get some tweets by keyword!"
   ]
  },
  {
   "cell_type": "code",
   "execution_count": 8,
   "metadata": {},
   "outputs": [],
   "source": [
    "api = tweepy.API(auth)"
   ]
  },
  {
   "cell_type": "code",
   "execution_count": 13,
   "metadata": {},
   "outputs": [],
   "source": [
    "query = 'pepsi'"
   ]
  },
  {
   "cell_type": "code",
   "execution_count": 14,
   "metadata": {},
   "outputs": [],
   "source": [
    "# Search Tweets\n",
    "searched_tweets = [status for status in tweepy.Cursor(api.search, q=query).items(100)]"
   ]
  },
  {
   "cell_type": "markdown",
   "metadata": {},
   "source": [
    "In this way, I'm obtaining tweets that contain the word 'Pepsi' - the API returns not only the text that we are interested but other data aswell:"
   ]
  },
  {
   "cell_type": "code",
   "execution_count": 25,
   "metadata": {},
   "outputs": [
    {
     "name": "stdout",
     "output_type": "stream",
     "text": [
      "RT @DanRather: Some things are so wrong. https://t.co/fnTq7KwqzC\n",
      "https://t.co/qJsqXYaZ7g\n",
      "RT @DanRather: Some things are so wrong. https://t.co/fnTq7KwqzC\n",
      "I drank a Pepsi today and it almost sent me somewhere. That mess is strong. 🤣😭\n",
      "A mãe sabe q eu n gosto de pepsi de limão e comprou e a única coisa q eu pedi p hoje era estudar e chorar tomando m… https://t.co/NBNk22TMgF\n",
      "@NigelGrey5 @NYinLA2121 @CocaCola How about handing cans of #Pepsi while boycotting @CocaCola\n",
      "RT @Intentionality4: @dukewindsor388 @kyjimbo51 I'm with you on the Pepsi thing, I don't know what it is but it sorta tastes like conveyor…\n",
      "@maximum_pepsi_ Bleddy 'ell, for that shite?\n",
      "@makeupuface @MotherSquid @CocaCola @CocaColaCo Bought my first case of Pepsi on over ten years today just because… https://t.co/0M9J8w6AzU\n",
      "@POPSUGAR @pepsi @PEEPSBrand This sounds nasty. Imma still buy it tho\n",
      "RT @ArkyBrightside: He can sense pepsi from miles away https://t.co/qLu8GE4H5P\n",
      "RT @DanRather: Some things are so wrong. https://t.co/fnTq7KwqzC\n",
      "@BenjaminJS @CocaColaCo more time for peeps Pepsi https://t.co/CBbqSvx4z2\n",
      "RT @DanRather: Some things are so wrong. https://t.co/fnTq7KwqzC\n",
      "@DanRather As it stands, Peeps, Twinkies, and cockroaches are going to be the things that survive the apocalypse. P… https://t.co/iYmHy5sSqO\n",
      "RT @CNNEPrensa: Pepsi lanza una nueva bebida con sabor malvavisco, los detalles vía @arduinoCNN para @ClixCNN https://t.co/CPWL9YWtdt\n",
      "@Tonio_Decoco Thighs and Pepsi amirite?\n",
      "RT @ArkyBrightside: He can sense pepsi from miles away https://t.co/qLu8GE4H5P\n",
      "RT @dukewindsor388: I haven't drank soda for years, but when I used to, I was a Coke guy all the way. But now that Coke has decided to side…\n",
      "We are all going to hell, aren't we?\n",
      "\n",
      "https://t.co/y9uNJ2m8lX\n",
      "RT @DanRather: Some things are so wrong. https://t.co/fnTq7KwqzC\n",
      "RT @DanRather: Some things are so wrong. https://t.co/fnTq7KwqzC\n",
      "@pepsi The new Rise energy drinks are a complete miss for core energy drink fans. The Amp lineup was miles better.… https://t.co/EwHJpppMF4\n",
      "RT @DanRather: Some things are so wrong. https://t.co/fnTq7KwqzC\n",
      "RT @GraceSa10499866: ANG GALING NG DREAM KO, ABOUT BKCngP &amp; HIS PEMELY..HIM &amp; MOTHER FROG AY LAGING NAG BABANGAYAN😁TOTOO KAYA ITO?UMINUM NA…\n",
      "モンハンが\n",
      "　明日届くよ\n",
      "　　遅くない？？？？？？\n",
      "RT @_JugadorNro12: Arreglemos esto de una vez:\n",
      "\n",
      "🔁: La de Quilmes\n",
      "❤️: La de Pepsi https://t.co/BkwbtDfRt8\n",
      "RT @dukewindsor388: I haven't drank soda for years, but when I used to, I was a Coke guy all the way. But now that Coke has decided to side…\n",
      "RT @DanRather: Some things are so wrong. https://t.co/fnTq7KwqzC\n",
      "RT @DanRather: Some things are so wrong. https://t.co/fnTq7KwqzC\n",
      "@DanRather Commented on this before and again I will say....I would definitely try it 😋 so @pepsi feel free to send me one to try 😉\n",
      "Pepsi too sweet\n",
      "Pepsi and Peeps Have Joined Forces to Create Marshmallow Soda | https://t.co/GCrLDp3J2h https://t.co/2ai9iDqm32\n",
      "Pepsi Soccer Update \n",
      "26:10 left in 2nd Half\n",
      "Clinton 5\n",
      "Mount St. Mary 1\n",
      "Jorge Marquez sends in a bending blast from… https://t.co/xhhnvzxyxy\n",
      "RT @DanRather: Some things are so wrong. https://t.co/fnTq7KwqzC\n",
      "@shayne571 This offends me as a huge Pepsi fan and a Peeps hater. What’s next..candy corn Pepsi?!!?! 🤮🤮\n",
      "RT @TheSkull2021: @GraceSa10499866 @MCambsl @thelionspride01 @mainedcm @pamskie0203 @Lam2127 @pinkyfaye @lolita_dam @noemicaseres53 @MayYnf…\n",
      "Coke taste better than Pepsi\n",
      "RT @DanRather: Some things are so wrong. https://t.co/fnTq7KwqzC\n",
      "RT @DanRather: Some things are so wrong. https://t.co/fnTq7KwqzC\n",
      "Any cocktail that you can make with the new Peeps Pepsi would be awesome https://t.co/xiz1uIp0qE https://t.co/VfsQoLUC48\n",
      "RT @DanRather: Some things are so wrong. https://t.co/fnTq7KwqzC\n",
      "RT @Julz925Julia: #PepsiSweepstakes #hangingwithmypeeps @pepsi @PEEPSBrand https://t.co/Jf5VSK1bLC\n",
      "RT @DanRather: Some things are so wrong. https://t.co/fnTq7KwqzC\n",
      "RT @El_fusilmx: ¡¡¡ANUNCIAN CREACIÓN DEL FORO VIRTUAL PEPSI CENTER WTC!!! https://t.co/ymgiXzKa7P\n",
      "@DanRather Just ordered Pepsi not Coke. Sooooooooooo, I am a Pepsi person now.\n",
      "Aw Jeez, @pepsi - you freaked out Dan Rather. https://t.co/yN3AMlPeeA\n",
      "RT @soyunchistemal: yo soy esa pepsi que te dan cuando pides cocacola en un bar\n",
      "I need a new display name because I no longer am rei dice que she want una pepsi\n",
      "@DanRather Pretty much vanilla pepsi. Or would that be \"Peepsi\"?? 🤣🤣\n",
      "@krakenfx Yes. Also I invested in Vechain crypto because. Walmart, Pepsi, BMW, Starbucks, McDonald’s use it now. Lo… https://t.co/jpvW4u0YwD\n",
      "@StevenTDennis So give them Pepsi or Dr. Pepper.\n",
      "@kdbert2003 @newsmax I prefer pepsi personally.\n",
      "Some things are so right. https://t.co/gjowb5Tx5j\n",
      "I predict a scandal wherein someone banging someone was the impetus for peeps pepsi. No one will take responsibility.\n",
      "RT @quietody: in the half life 2 beta pepsi machines still exist which implies that the combine thought pepsi was so good they decided to k…\n",
      "Having Pepsi Blue Flashbacks https://t.co/Von6nTuJef\n",
      "@momnco @TravisAllen02 @CocaCola @MLB I bought Pepsi instead of Coke today.  Woohoo!\n",
      "PEPSI for RALPH.\n",
      "RT @DanRather: Some things are so wrong. https://t.co/fnTq7KwqzC\n",
      "Estoy esperando a mi novio con papas fritas y pepsi, a veces soy una romántica aaa que decia\n",
      "RT @SarcasticSadOne: Imagine combining Peeps and Pepsi and failing to call it Peepsi.\n",
      "RT @DanRather: Some things are so wrong. https://t.co/fnTq7KwqzC\n",
      "@JoyAnnReid @InSpiteOfTrump I drink Pepsi. I live in Flor-i-dah. We are all in such a bigly mess.… https://t.co/AnAg1Citoh\n",
      "RT @DanRather: Some things are so wrong. https://t.co/fnTq7KwqzC\n",
      "@HollyBlackstone Yeah, Pepsi has been trying some weird stuff lately. Just saw a commercial for peach-flavored Pepsi. 🤢\n",
      "RT @DanRather: Some things are so wrong. https://t.co/fnTq7KwqzC\n",
      "RT @DanRather: Some things are so wrong. https://t.co/fnTq7KwqzC\n",
      "wild cherry pepsi and don taste pretty good.\n",
      "bolo: de morango\n",
      "sorvete: uva ou o da jundiaí trufado\n",
      "chocolate: o de panela, melhor d todos !\n",
      "suco: caju ou uva\n",
      "re… https://t.co/nZyQB5UXoV\n",
      "Mannnnn @pepsi x @PEEPSBrand ??? I'm out @Sedano @LZGranderson @ScottKaplan candy corn js 🔥🔥🔥 tho!!!\n",
      "Plena sexta, Sulimar manda foto tomando Pepsi, essa porra tá doente! 😂😂😂😂 né possível\n",
      "RT @DanRather: Some things are so wrong. https://t.co/fnTq7KwqzC\n",
      "RT @DanRather: Some things are so wrong. https://t.co/fnTq7KwqzC\n",
      "RT @DanRather: Some things are so wrong. https://t.co/fnTq7KwqzC\n",
      "RT @DanRather: Some things are so wrong. https://t.co/fnTq7KwqzC\n",
      "@ZackDavisson Pepsi...with mango\n",
      "RT @DanRather: Some things are so wrong. https://t.co/fnTq7KwqzC\n",
      "RT @_JugadorNro12: Arreglemos esto de una vez:\n",
      "\n",
      "🔁: La de Quilmes\n",
      "❤️: La de Pepsi https://t.co/BkwbtDfRt8\n",
      "RT @DanRather: Some things are so wrong. https://t.co/fnTq7KwqzC\n",
      "Playing with my niece Bethany is definitely a favorite springtime activity! She’s the cutest! #HangingwithMyPeeps… https://t.co/OpXOP21iar\n",
      "RT @DanRather: Some things are so wrong. https://t.co/fnTq7KwqzC\n",
      "RT @dukewindsor388: I haven't drank soda for years, but when I used to, I was a Coke guy all the way. But now that Coke has decided to side…\n",
      "@Pepsi got home to Grogu with ALL MY PEEPS!! 😱😭 #PEPSIxPEEPS #HangingWithMyPEEPS #PepsiSweepstakes https://t.co/5XKwnPrFW1\n",
      "RT @DanRather: Some things are so wrong. https://t.co/fnTq7KwqzC\n",
      "@funder @CocaCola Already switched to Pepsi\n",
      "RT @GingerIsOurWord: The fact Pepsi and Peeps partnered on a drink and didn’t call it Peepsi goes to prove the world is fill of cowards who…\n",
      "RT @DanRather: Some things are so wrong. https://t.co/fnTq7KwqzC\n",
      "RT @DanRather: Some things are so wrong. https://t.co/fnTq7KwqzC\n",
      "Luv Pepsi, luv Peeps ........ but this is downright nasty. 😝\n",
      "\n",
      " https://t.co/wNfFNzOr9a\n",
      "@NjTank99 Future taste test https://t.co/CFlN165pln\n",
      "@StaceyDowe @pepsi @twitandrewking An amazing find.\n",
      "RT @DanRather: Some things are so wrong. https://t.co/fnTq7KwqzC\n",
      "if leftist theory had pictures i would read it. otherwise i dont care\n",
      "@Mr_chaos_bot here's some coke? fuck that, where's the pepsi at?\n",
      "@Sedano Pepsi is better than coke but GTFOH with the peeps Pepsi\n",
      "RT @DanRather: Some things are so wrong. https://t.co/fnTq7KwqzC\n",
      "RT @_JugadorNro12: Arreglemos esto de una vez:\n",
      "\n",
      "🔁: La de Quilmes\n",
      "❤️: La de Pepsi https://t.co/BkwbtDfRt8\n",
      "RT @DanRather: Some things are so wrong. https://t.co/fnTq7KwqzC\n",
      "RT @DanRather: Some things are so wrong. https://t.co/fnTq7KwqzC\n"
     ]
    }
   ],
   "source": [
    "for tweet in searched_tweets:\n",
    "    print(tweet.text)"
   ]
  },
  {
   "cell_type": "markdown",
   "metadata": {},
   "source": [
    "***\n",
    "Generally, most API's follow the same rule: \n",
    "- We use a wrapper (normally a python library) on the API;\n",
    "- We use some keys to authenticate on the API;\n",
    "- We perform some requests on the API - in this case we are querying for tweets that contain the word 'pepsi';\n",
    "***"
   ]
  }
 ],
 "metadata": {
  "kernelspec": {
   "display_name": "Python 3.7.7 64-bit ('mlstanford': conda)",
   "language": "python",
   "name": "python37764bitmlstanfordcondae7887558efda4a86a663a84c2252353c"
  },
  "language_info": {
   "codemirror_mode": {
    "name": "ipython",
    "version": 3
   },
   "file_extension": ".py",
   "mimetype": "text/x-python",
   "name": "python",
   "nbconvert_exporter": "python",
   "pygments_lexer": "ipython3",
   "version": "3.7.7"
  }
 },
 "nbformat": 4,
 "nbformat_minor": 2
}
