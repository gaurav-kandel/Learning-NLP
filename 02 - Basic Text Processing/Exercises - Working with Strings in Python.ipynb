{
 "cells": [
  {
   "cell_type": "markdown",
   "metadata": {},
   "source": [
    "***\n",
    "This notebook contains the exercises for the Working With Strings Section of the Natural Language Processing Course. \n",
    "<br>\n",
    "<br>\n",
    "You can run your notebook on each cell that has a heading that starts with \"Exercise\" and validate your solution on each cell that has an heading that starts with \"Validation\".\n",
    "<br>\n",
    "<br>\n",
    "Don't forget that you code must in the bits with ```### YOUR CODE HERE``` and check if you create every object that the function expects!\n",
    "<br>\n",
    "There's an accompanying notebook that contains the solutions, if you need some help!\n",
    "<br>\n",
    "If you have any question refer to the Lecture **'Tutorial - How to complete the exercises'** in section 2 of the course.\n",
    "<br>\n",
    "<br>\n",
    "**NOTE: Depending on your Python version and library versions, your code may be correct but it may fail the asserts in the Validation cells - if your code matches the one on the solutions, don't worry and consider your exercise correct.**\n",
    "***\n"
   ]
  },
  {
   "cell_type": "markdown",
   "metadata": {},
   "source": [
    "# Exercise 1"
   ]
  },
  {
   "cell_type": "code",
   "execution_count": 5,
   "metadata": {},
   "outputs": [],
   "source": [
    "# Declare a string with the sentence\n",
    "# \"Amazing String\" and store it\n",
    "# in a variable called amazing\n",
    "\n",
    "### YOUR CODE HERE\n",
    "\n",
    "# store the first letter of the amazing\n",
    "# object in a string called first_letter\n",
    "\n",
    "### YOUR CODE HERE\n",
    "\n",
    "# store the first 4 letters of the amazing\n",
    "# object in a string called first_four\n",
    "\n",
    "### YOUR CODE HERE"
   ]
  },
  {
   "cell_type": "markdown",
   "metadata": {},
   "source": [
    "# Validation - Exercise 1"
   ]
  },
  {
   "cell_type": "code",
   "execution_count": 4,
   "metadata": {},
   "outputs": [
    {
     "name": "stdout",
     "output_type": "stream",
     "text": [
      "Your code is correct!\n"
     ]
    }
   ],
   "source": [
    "try:\n",
    "    amazing\n",
    "except NameError:\n",
    "    raise NameError('Did you create the object amazing?')\n",
    "    \n",
    "    \n",
    "try:\n",
    "    first_letter\n",
    "except NameError:\n",
    "    raise NameError('Did you create the object first_letter?')\n",
    "    \n",
    "try:\n",
    "    first_four\n",
    "except NameError:\n",
    "    raise NameError('Did you create the object first_four?')\n",
    "    \n",
    "assert(amazing == 'Amazing String')\n",
    "assert(first_letter == 'A')\n",
    "assert(first_four == 'Amaz')\n",
    "\n",
    "print('Your code is correct!')"
   ]
  },
  {
   "cell_type": "markdown",
   "metadata": {},
   "source": [
    "# Exercise 2"
   ]
  },
  {
   "cell_type": "code",
   "execution_count": 16,
   "metadata": {},
   "outputs": [],
   "source": [
    "# Declare a string called hello\n",
    "# with the word 'Hello'\n",
    "\n",
    "### YOUR CODE HERE\n",
    "\n",
    "# Declare a string called world\n",
    "# with the word 'World'\n",
    "\n",
    "### YOUR CODE HERE\n",
    "\n",
    "# Combine the hello and world strings\n",
    "# add a space between the words so that\n",
    "# you store the variable \"Hello World\"\n",
    "# Store it in an object called combine_strings\n",
    "\n",
    "### YOUR CODE HERE\n",
    "\n",
    "# Iterate through your combine_strings object\n",
    "# and count the number of o's in the string\n",
    "# store that count in a variable called\n",
    "# count_os\n",
    "\n",
    "# You can use any method or technique\n",
    "# that you find convenient but remember \n",
    "# the string iteration that we have learned\n",
    "\n",
    "### YOUR CODE HERE"
   ]
  },
  {
   "cell_type": "markdown",
   "metadata": {},
   "source": [
    "# Validation - Exercise 2"
   ]
  },
  {
   "cell_type": "code",
   "execution_count": 17,
   "metadata": {},
   "outputs": [
    {
     "name": "stdout",
     "output_type": "stream",
     "text": [
      "Your code is correct!\n"
     ]
    }
   ],
   "source": [
    "try:\n",
    "    hello\n",
    "except NameError:\n",
    "    raise NameError('Did you create the object hello?')\n",
    "       \n",
    "try:\n",
    "    world\n",
    "except NameError:\n",
    "    raise NameError('Did you create the object world?')\n",
    "    \n",
    "try:\n",
    "    combine_strings\n",
    "except NameError:\n",
    "    raise NameError('Did you create the object combine_strings?')\n",
    "    \n",
    "try:\n",
    "    count_os\n",
    "except NameError:\n",
    "    raise NameError('Did you create the object count_os?')\n",
    "    \n",
    "assert(hello == \"Hello\")\n",
    "assert(world == 'World')\n",
    "assert(combine_strings == 'Hello World')\n",
    "assert(count_os == 2)\n",
    "\n",
    "print('Your code is correct!')"
   ]
  },
  {
   "cell_type": "markdown",
   "metadata": {},
   "source": [
    "# Exercise 3"
   ]
  },
  {
   "cell_type": "code",
   "execution_count": 18,
   "metadata": {},
   "outputs": [],
   "source": [
    "# Store the sentence: \n",
    "# 'All human wisdom is summed up in these two words – Wait and hope.'\n",
    "# in a variable called count_monte_cristo \n",
    "\n",
    "### YOUR CODE HERE\n",
    "\n",
    "# Lower the sentence above and store it\n",
    "# in a variable called count_monte_cristo_lower\n",
    "\n",
    "### YOUR CODE HERE\n",
    "\n",
    "# Split the sentence above based on blank spaces\n",
    "# and store in an object named\n",
    "# words_monte_cristo\n",
    "\n",
    "### YOUR CODE HERE"
   ]
  },
  {
   "cell_type": "markdown",
   "metadata": {},
   "source": [
    "# Validation - Exercise 3"
   ]
  },
  {
   "cell_type": "code",
   "execution_count": 19,
   "metadata": {},
   "outputs": [
    {
     "name": "stdout",
     "output_type": "stream",
     "text": [
      "Your code is correct!\n"
     ]
    }
   ],
   "source": [
    "try:\n",
    "    count_monte_cristo\n",
    "except NameError:\n",
    "    raise NameError('Did you create the object count_monte_cristo?')\n",
    "       \n",
    "try:\n",
    "    count_monte_cristo_lower\n",
    "except NameError:\n",
    "    raise NameError('Did you create the object count_monte_cristo_lower?')\n",
    "    \n",
    "try:\n",
    "    words_monte_cristo\n",
    "except NameError:\n",
    "    raise NameError('Did you create the object words_monte_cristo?')\n",
    "        \n",
    "assert(count_monte_cristo == \"All human wisdom is summed up in these two words – Wait and hope.\")\n",
    "assert(count_monte_cristo_lower == \"All human wisdom is summed up in these two words – Wait and hope.\".lower())\n",
    "assert(words_monte_cristo == \"All human wisdom is summed up in these two words – Wait and hope.\".split(' '))\n",
    "\n",
    "print('Your code is correct!')"
   ]
  },
  {
   "cell_type": "markdown",
   "metadata": {},
   "source": [
    "# Exercise 4"
   ]
  },
  {
   "cell_type": "code",
   "execution_count": 20,
   "metadata": {},
   "outputs": [],
   "source": [
    "# Store the number 10001 in an object\n",
    "# called lucky_number\n",
    "\n",
    "### YOUR CODE HERE\n",
    "\n",
    "# Convert the lucky_number into an object\n",
    "# called string_lucky_number\n",
    "\n",
    "### YOUR CODE HERE\n",
    "\n",
    "# Check if the string_lucky_number is alpha\n",
    "# store the result in a test_alpha variable\n",
    "\n",
    "#### YOUR CODE HERE"
   ]
  },
  {
   "cell_type": "markdown",
   "metadata": {},
   "source": [
    "# Validation - Exercise 4"
   ]
  },
  {
   "cell_type": "code",
   "execution_count": 21,
   "metadata": {},
   "outputs": [
    {
     "name": "stdout",
     "output_type": "stream",
     "text": [
      "Your code is correct!\n"
     ]
    }
   ],
   "source": [
    "try:\n",
    "    lucky_number\n",
    "except NameError:\n",
    "    raise NameError('Did you create the object lucky_number?')\n",
    "       \n",
    "try:\n",
    "    string_lucky_number\n",
    "except NameError:\n",
    "    raise NameError('Did you create the object string_lucky_number?')\n",
    "    \n",
    "try:\n",
    "    test_alpha\n",
    "except NameError:\n",
    "    raise NameError('Did you create the object test_alpha?')\n",
    "        \n",
    "assert(lucky_number == 10001)\n",
    "assert(string_lucky_number == str(10001))\n",
    "assert(test_alpha == False)\n",
    "\n",
    "print('Your code is correct!')"
   ]
  }
 ],
 "metadata": {
  "kernelspec": {
   "display_name": "Python 3 (ipykernel)",
   "language": "python",
   "name": "python3"
  },
  "language_info": {
   "codemirror_mode": {
    "name": "ipython",
    "version": 3
   },
   "file_extension": ".py",
   "mimetype": "text/x-python",
   "name": "python",
   "nbconvert_exporter": "python",
   "pygments_lexer": "ipython3",
   "version": "3.9.13"
  }
 },
 "nbformat": 4,
 "nbformat_minor": 2
}
