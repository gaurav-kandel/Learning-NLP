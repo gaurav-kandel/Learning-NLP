{
 "cells": [
  {
   "cell_type": "markdown",
   "metadata": {},
   "source": [
    "***\n",
    "Welcome to this notebook where we will delve into the NLTK Tokenization function, specifically focusing on sentence and word tokenization. Throughout our exploration, we will engage in small exercises that rely on our tokenizations. Moreover, we will also explore the FreqDist function, which aids us in counting word occurrences in given texts.\n",
    "***"
   ]
  },
  {
   "cell_type": "markdown",
   "metadata": {},
   "source": [
    "### Index:"
   ]
  },
  {
   "cell_type": "markdown",
   "metadata": {},
   "source": [
    "[1.1 - Sent Tokenizer](#1.1---Sent-Tokenizer)\n",
    "<br>\n",
    "[1.2 - Word Tokenizer](#1.2---Word-Tokenizer)\n",
    "<br>\n",
    "[1.3 - Use Case: Counting number of number occurences in a Word](#1.3---Use-Case---Counting-number-of-number-occurences-in-a-Word)\n",
    "<br>\n",
    "[1.4 - Frequency of Words](#1.4---Frequency-of-Words)\n",
    "\n"
   ]
  },
  {
   "cell_type": "code",
   "execution_count": 2,
   "metadata": {},
   "outputs": [],
   "source": [
    "# NLTK Stands for Natural Language Toolkit\n",
    "import nltk"
   ]
  },
  {
   "cell_type": "markdown",
   "metadata": {},
   "source": [
    "Let's start by defining a long sentence with the `European Union` definition:"
   ]
  },
  {
   "cell_type": "code",
   "execution_count": 3,
   "metadata": {},
   "outputs": [],
   "source": [
    "eu_definition = '''\n",
    "The European Union (EU) is a political and economic union of 27 member states that are located primarily \n",
    "in Europe. Its members have a combined area of 4,233,255.3 km2 (1,634,469.0 sq mi) and an estimated total \n",
    "population of about 447 million. The EU has developed an internal single market through a standardised system of \n",
    "laws that apply in all member states in those matters, and only those matters, where members have agreed to act as one. \n",
    "EU policies aim to ensure the free movement of people, goods, services and capital within the internal market;\n",
    "enact legislation in justice and home affairs; and maintain common policies on trade, agriculture, \n",
    "fisheries and regional development. Passport controls have been abolished for travel within the Schengen Area.\n",
    "A monetary union was established in 1999, coming into full force in 2002, and is composed of 19 EU \n",
    "member states which use the euro currency. The EU has often been described as a sui generis political entity \n",
    "(without precedent or comparison).\n",
    "'''"
   ]
  },
  {
   "cell_type": "markdown",
   "metadata": {},
   "source": [
    "### 1 - Tokenization"
   ]
  },
  {
   "cell_type": "markdown",
   "metadata": {},
   "source": [
    "### 1.1 - Sent Tokenizer"
   ]
  },
  {
   "cell_type": "markdown",
   "metadata": {},
   "source": [
    "**Let's try to split this into sentences by using the `split` method directly:**"
   ]
  },
  {
   "cell_type": "code",
   "execution_count": 4,
   "metadata": {
    "scrolled": true
   },
   "outputs": [
    {
     "data": {
      "text/plain": [
       "['\\nThe European Union (EU) is a political and economic union of 27 member states that are located primarily \\nin Europe',\n",
       " ' Its members have a combined area of 4,233,255',\n",
       " '3 km2 (1,634,469',\n",
       " '0 sq mi) and an estimated total \\npopulation of about 447 million',\n",
       " ' The EU has developed an internal single market through a standardised system of \\nlaws that apply in all member states in those matters, and only those matters, where members have agreed to act as one',\n",
       " ' \\nEU policies aim to ensure the free movement of people, goods, services and capital within the internal market;\\nenact legislation in justice and home affairs; and maintain common policies on trade, agriculture, \\nfisheries and regional development',\n",
       " ' Passport controls have been abolished for travel within the Schengen Area',\n",
       " '\\nA monetary union was established in 1999, coming into full force in 2002, and is composed of 19 EU \\nmember states which use the euro currency',\n",
       " ' The EU has often been described as a sui generis political entity \\n(without precedent or comparison)',\n",
       " '\\n']"
      ]
     },
     "execution_count": 4,
     "metadata": {},
     "output_type": "execute_result"
    }
   ],
   "source": [
    "eu_definition.split('.')"
   ]
  },
  {
   "cell_type": "markdown",
   "metadata": {},
   "source": [
    "As we can see from the code above, sentences are cut on weird places as we have points separating decimal places. \n",
    "<br>\n",
    "<br>\n",
    "**Let's see what NLTK `sent_tokenize` does for us:**"
   ]
  },
  {
   "cell_type": "code",
   "execution_count": 5,
   "metadata": {},
   "outputs": [
    {
     "data": {
      "text/plain": [
       "['\\nThe European Union (EU) is a political and economic union of 27 member states that are located primarily \\nin Europe.',\n",
       " 'Its members have a combined area of 4,233,255.3 km2 (1,634,469.0 sq mi) and an estimated total \\npopulation of about 447 million.',\n",
       " 'The EU has developed an internal single market through a standardised system of \\nlaws that apply in all member states in those matters, and only those matters, where members have agreed to act as one.',\n",
       " 'EU policies aim to ensure the free movement of people, goods, services and capital within the internal market;\\nenact legislation in justice and home affairs; and maintain common policies on trade, agriculture, \\nfisheries and regional development.',\n",
       " 'Passport controls have been abolished for travel within the Schengen Area.',\n",
       " 'A monetary union was established in 1999, coming into full force in 2002, and is composed of 19 EU \\nmember states which use the euro currency.',\n",
       " 'The EU has often been described as a sui generis political entity \\n(without precedent or comparison).']"
      ]
     },
     "execution_count": 5,
     "metadata": {},
     "output_type": "execute_result"
    }
   ],
   "source": [
    "nltk.tokenize.sent_tokenize(eu_definition)"
   ]
  },
  {
   "cell_type": "markdown",
   "metadata": {},
   "source": [
    "How the sent tokenizer works, directly from the NLTK documentation:"
   ]
  },
  {
   "cell_type": "markdown",
   "metadata": {},
   "source": [
    "*A sentence tokenizer which uses an unsupervised algorithm to build a model for abbreviation words, collocations, and words that start sentences; and then uses that model to find sentence boundaries. This approach has been shown to work well for many European languages.*"
   ]
  },
  {
   "cell_type": "markdown",
   "metadata": {},
   "source": [
    "The *sent_tokenize* function uses an instance of `PunktSentenceTokenizer`(https://www.nltk.org/api/nltk.tokenize.PunktSentenceTokenizer.html) from the `nltk.tokenize.punkt module`.\n",
    "<br>\n",
    "<br>\n",
    "This is what we normally call a pre-trained model."
   ]
  },
  {
   "cell_type": "markdown",
   "metadata": {},
   "source": [
    "### 1.2 - Word Tokenizer"
   ]
  },
  {
   "cell_type": "markdown",
   "metadata": {},
   "source": [
    "Word tokenizer enables us to tokenize a sentence according to it's words and punctuation:"
   ]
  },
  {
   "cell_type": "code",
   "execution_count": 6,
   "metadata": {},
   "outputs": [],
   "source": [
    "tokenize_sentence = nltk.tokenize.sent_tokenize(eu_definition)"
   ]
  },
  {
   "cell_type": "code",
   "execution_count": 7,
   "metadata": {},
   "outputs": [
    {
     "data": {
      "text/plain": [
       "['The',\n",
       " 'European',\n",
       " 'Union',\n",
       " '(',\n",
       " 'EU',\n",
       " ')',\n",
       " 'is',\n",
       " 'a',\n",
       " 'political',\n",
       " 'and',\n",
       " 'economic',\n",
       " 'union',\n",
       " 'of',\n",
       " '27',\n",
       " 'member',\n",
       " 'states',\n",
       " 'that',\n",
       " 'are',\n",
       " 'located',\n",
       " 'primarily',\n",
       " 'in',\n",
       " 'Europe',\n",
       " '.']"
      ]
     },
     "execution_count": 7,
     "metadata": {},
     "output_type": "execute_result"
    }
   ],
   "source": [
    "# Tokenizing first sentence:\n",
    "nltk.tokenize.word_tokenize(tokenize_sentence[0])"
   ]
  },
  {
   "cell_type": "code",
   "execution_count": 8,
   "metadata": {},
   "outputs": [
    {
     "data": {
      "text/plain": [
       "['Its',\n",
       " 'members',\n",
       " 'have',\n",
       " 'a',\n",
       " 'combined',\n",
       " 'area',\n",
       " 'of',\n",
       " '4,233,255.3',\n",
       " 'km2',\n",
       " '(',\n",
       " '1,634,469.0',\n",
       " 'sq',\n",
       " 'mi',\n",
       " ')',\n",
       " 'and',\n",
       " 'an',\n",
       " 'estimated',\n",
       " 'total',\n",
       " 'population',\n",
       " 'of',\n",
       " 'about',\n",
       " '447',\n",
       " 'million',\n",
       " '.']"
      ]
     },
     "execution_count": 8,
     "metadata": {},
     "output_type": "execute_result"
    }
   ],
   "source": [
    "# Tokenizing second sentence:\n",
    "nltk.tokenize.word_tokenize(tokenize_sentence[1])"
   ]
  },
  {
   "cell_type": "markdown",
   "metadata": {},
   "source": [
    "Word tokenizer uses the Default/TreeBank Tokenizer but there's other alternatives:"
   ]
  },
  {
   "attachments": {
    "Word_Tokenizer.png": {
     "image/png": "[encoded data removed]"
    }
   },
   "cell_type": "markdown",
   "metadata": {},
   "source": [
    "![Word_Tokenizer.png](attachment:Word_Tokenizer.png)"
   ]
  },
  {
   "cell_type": "markdown",
   "metadata": {},
   "source": [
    "For example, let's see the `whitespace-based tokenization`. An example of whitespace-based tokenization based on Python Default string methods is done by directly calling the `split` method:"
   ]
  },
  {
   "cell_type": "code",
   "execution_count": 9,
   "metadata": {
    "scrolled": true
   },
   "outputs": [
    {
     "data": {
      "text/plain": [
       "['Its',\n",
       " 'members',\n",
       " 'have',\n",
       " 'a',\n",
       " 'combined',\n",
       " 'area',\n",
       " 'of',\n",
       " '4,233,255.3',\n",
       " 'km2',\n",
       " '(1,634,469.0',\n",
       " 'sq',\n",
       " 'mi)',\n",
       " 'and',\n",
       " 'an',\n",
       " 'estimated',\n",
       " 'total',\n",
       " '\\npopulation',\n",
       " 'of',\n",
       " 'about',\n",
       " '447',\n",
       " 'million.']"
      ]
     },
     "execution_count": 9,
     "metadata": {},
     "output_type": "execute_result"
    }
   ],
   "source": [
    "tokenize_sentence[1].split(\" \")"
   ]
  },
  {
   "cell_type": "markdown",
   "metadata": {},
   "source": [
    "### 1.3 - Use Case - Counting number of number occurences in a Word"
   ]
  },
  {
   "cell_type": "markdown",
   "metadata": {},
   "source": [
    "**After tokenization we can already produce some interesting stuff using Python. Let's count the number of \"numbers\" that each sentence has with a simple code.**\n",
    "<br>\n",
    "<br>\n",
    "Let's also learn a new method for strings and use the string library! There's a much efficient way to do this but let's take it slowly and see this step-by-step.\n",
    "<br>\n",
    "<br>\n",
    "*Note: This use case is not followed along in the video lectures and is aimed at a self-learning process.*"
   ]
  },
  {
   "cell_type": "code",
   "execution_count": 10,
   "metadata": {},
   "outputs": [],
   "source": [
    "import string"
   ]
  },
  {
   "cell_type": "code",
   "execution_count": 11,
   "metadata": {},
   "outputs": [
    {
     "data": {
      "text/plain": [
       "'!\"#$%&\\'()*+,-./:;<=>?@[\\\\]^_`{|}~'"
      ]
     },
     "execution_count": 11,
     "metadata": {},
     "output_type": "execute_result"
    }
   ],
   "source": [
    "# String punctuation method let us conveniently assess punctuation:\n",
    "string.punctuation"
   ]
  },
  {
   "cell_type": "markdown",
   "metadata": {},
   "source": [
    "**I can turn the string above into a list:**"
   ]
  },
  {
   "cell_type": "code",
   "execution_count": 12,
   "metadata": {},
   "outputs": [
    {
     "data": {
      "text/plain": [
       "['!',\n",
       " '\"',\n",
       " '#',\n",
       " '$',\n",
       " '%',\n",
       " '&',\n",
       " \"'\",\n",
       " '(',\n",
       " ')',\n",
       " '*',\n",
       " '+',\n",
       " ',',\n",
       " '-',\n",
       " '.',\n",
       " '/',\n",
       " ':',\n",
       " ';',\n",
       " '<',\n",
       " '=',\n",
       " '>',\n",
       " '?',\n",
       " '@',\n",
       " '[',\n",
       " '\\\\',\n",
       " ']',\n",
       " '^',\n",
       " '_',\n",
       " '`',\n",
       " '{',\n",
       " '|',\n",
       " '}',\n",
       " '~']"
      ]
     },
     "execution_count": 12,
     "metadata": {},
     "output_type": "execute_result"
    }
   ],
   "source": [
    "list(string.punctuation)"
   ]
  },
  {
   "cell_type": "code",
   "execution_count": 13,
   "metadata": {},
   "outputs": [
    {
     "name": "stdout",
     "output_type": "stream",
     "text": [
      "The word Its is alpha: True\n",
      "The word members is alpha: True\n",
      "The word have is alpha: True\n",
      "The word a is alpha: True\n",
      "The word combined is alpha: True\n",
      "The word area is alpha: True\n",
      "The word of is alpha: True\n",
      "The word 42332553 is alpha: False\n",
      "The word km2 is alpha: False\n",
      "The word 16344690 is alpha: False\n",
      "The word sq is alpha: True\n",
      "The word mi is alpha: True\n",
      "The word and is alpha: True\n",
      "The word an is alpha: True\n",
      "The word estimated is alpha: True\n",
      "The word total is alpha: True\n",
      "The word population is alpha: False\n",
      "The word of is alpha: True\n",
      "The word about is alpha: True\n",
      "The word 447 is alpha: False\n",
      "The word million is alpha: True\n"
     ]
    }
   ],
   "source": [
    "# Initializing our sentence as empty\n",
    "my_sentence = []\n",
    "\n",
    "# For each word in the second sentence of\n",
    "# the tokens\n",
    "for word in tokenize_sentence[1].split(\" \"):\n",
    "    # replace the punctuation with nothing\n",
    "    for punct in list(string.punctuation):\n",
    "        word = word.replace(punct,'')\n",
    "    \n",
    "    print('The word {} is alpha: {}'.format(word.strip(), word.isalpha()))"
   ]
  },
  {
   "cell_type": "markdown",
   "metadata": {},
   "source": [
    "Notice how `population` is not alpha. To our human eye it seems alpha but there is a slight weird thing in there - notice that `\\n` right there. If we use Python notebooks output:"
   ]
  },
  {
   "cell_type": "code",
   "execution_count": 14,
   "metadata": {
    "scrolled": true
   },
   "outputs": [
    {
     "data": {
      "text/plain": [
       "'\\npopulation'"
      ]
     },
     "execution_count": 14,
     "metadata": {},
     "output_type": "execute_result"
    }
   ],
   "source": [
    "tokenize_sentence[1].split(\" \")[16]"
   ]
  },
  {
   "cell_type": "markdown",
   "metadata": {},
   "source": [
    "But if we use print:"
   ]
  },
  {
   "cell_type": "code",
   "execution_count": 15,
   "metadata": {},
   "outputs": [
    {
     "name": "stdout",
     "output_type": "stream",
     "text": [
      "\n",
      "population\n"
     ]
    }
   ],
   "source": [
    "print(tokenize_sentence[1].split(\" \")[16])"
   ]
  },
  {
   "cell_type": "markdown",
   "metadata": {},
   "source": [
    "Given that, let's also replace the `\\n's` in our sentences."
   ]
  },
  {
   "cell_type": "code",
   "execution_count": 16,
   "metadata": {},
   "outputs": [
    {
     "name": "stdout",
     "output_type": "stream",
     "text": [
      "The word Its is alpha: True\n",
      "The word members is alpha: True\n",
      "The word have is alpha: True\n",
      "The word a is alpha: True\n",
      "The word combined is alpha: True\n",
      "The word area is alpha: True\n",
      "The word of is alpha: True\n",
      "The word 42332553 is alpha: False\n",
      "The word km2 is alpha: False\n",
      "The word 16344690 is alpha: False\n",
      "The word sq is alpha: True\n",
      "The word mi is alpha: True\n",
      "The word and is alpha: True\n",
      "The word an is alpha: True\n",
      "The word estimated is alpha: True\n",
      "The word total is alpha: True\n",
      "The word population is alpha: True\n",
      "The word of is alpha: True\n",
      "The word about is alpha: True\n",
      "The word 447 is alpha: False\n",
      "The word million is alpha: True\n"
     ]
    }
   ],
   "source": [
    "my_sentence = []\n",
    "\n",
    "for word in tokenize_sentence[1].split(\" \"):\n",
    "    for punct in list(string.punctuation):\n",
    "        word = word.replace(punct,'')\n",
    "        word = word.replace('\\n','')\n",
    "    \n",
    "    print('The word {} is alpha: {}'.format(word.strip(), word.isalpha()))"
   ]
  },
  {
   "cell_type": "markdown",
   "metadata": {},
   "source": [
    "The is numeric method helps us check if a string is numeric (notice that it is still relevant to replace the `-` and `.` because -1 and 1.020 would not be considered numbers by Python if we didn't do that!):"
   ]
  },
  {
   "cell_type": "code",
   "execution_count": 17,
   "metadata": {
    "scrolled": true
   },
   "outputs": [
    {
     "name": "stdout",
     "output_type": "stream",
     "text": [
      "3\n"
     ]
    }
   ],
   "source": [
    "numbers = 0\n",
    "\n",
    "for word in tokenize_sentence[1].split(\" \"):\n",
    "    for punct in list(string.punctuation):\n",
    "        word = word.replace(punct,'')\n",
    "    \n",
    "    if word.isnumeric():\n",
    "        numbers+=1\n",
    "\n",
    "print(numbers)"
   ]
  },
  {
   "cell_type": "markdown",
   "metadata": {},
   "source": [
    "**We were able to check that there are 3 numbers in the sentence!**"
   ]
  },
  {
   "cell_type": "markdown",
   "metadata": {},
   "source": [
    "### 1.4 - Frequency of Words"
   ]
  },
  {
   "cell_type": "markdown",
   "metadata": {},
   "source": [
    "A really cool distribution function is the `FreqDist` function from nltk probability module."
   ]
  },
  {
   "cell_type": "code",
   "execution_count": 18,
   "metadata": {},
   "outputs": [],
   "source": [
    "from nltk.probability import FreqDist"
   ]
  },
  {
   "cell_type": "code",
   "execution_count": 19,
   "metadata": {},
   "outputs": [],
   "source": [
    "tokenized_sent_word = nltk.word_tokenize(eu_definition)"
   ]
  },
  {
   "cell_type": "markdown",
   "metadata": {},
   "source": [
    "**We can pass a tokenized text in word version to the FreqDist function:**"
   ]
  },
  {
   "cell_type": "code",
   "execution_count": 20,
   "metadata": {},
   "outputs": [],
   "source": [
    "frequency = FreqDist(tokenized_sent_word)"
   ]
  },
  {
   "cell_type": "markdown",
   "metadata": {},
   "source": [
    "Let's check the 10 most common words:"
   ]
  },
  {
   "cell_type": "code",
   "execution_count": 21,
   "metadata": {
    "scrolled": true
   },
   "outputs": [
    {
     "data": {
      "text/plain": [
       "[('and', 8),\n",
       " (',', 8),\n",
       " ('.', 7),\n",
       " ('of', 6),\n",
       " ('in', 6),\n",
       " ('EU', 5),\n",
       " ('a', 4),\n",
       " ('the', 4),\n",
       " ('The', 3),\n",
       " ('(', 3)]"
      ]
     },
     "execution_count": 21,
     "metadata": {},
     "output_type": "execute_result"
    }
   ],
   "source": [
    "frequency.most_common(10)"
   ]
  },
  {
   "cell_type": "markdown",
   "metadata": {},
   "source": [
    "We can also convert this dictionary into a Data Frame pretty quickly:"
   ]
  },
  {
   "cell_type": "code",
   "execution_count": 1,
   "metadata": {},
   "outputs": [
    {
     "ename": "NameError",
     "evalue": "name 'frequency' is not defined",
     "output_type": "error",
     "traceback": [
      "\u001b[0;31m---------------------------------------------------------------------------\u001b[0m",
      "\u001b[0;31mNameError\u001b[0m                                 Traceback (most recent call last)",
      "Cell \u001b[0;32mIn[1], line 2\u001b[0m\n\u001b[1;32m      1\u001b[0m \u001b[38;5;28;01mimport\u001b[39;00m \u001b[38;5;21;01mpandas\u001b[39;00m \u001b[38;5;28;01mas\u001b[39;00m \u001b[38;5;21;01mpd\u001b[39;00m\n\u001b[0;32m----> 2\u001b[0m word_counts \u001b[38;5;241m=\u001b[39m pd\u001b[38;5;241m.\u001b[39mDataFrame\u001b[38;5;241m.\u001b[39mfrom_dict(\u001b[43mfrequency\u001b[49m\u001b[38;5;241m.\u001b[39mitems())\n",
      "\u001b[0;31mNameError\u001b[0m: name 'frequency' is not defined"
     ]
    }
   ],
   "source": [
    "import pandas as pd\n",
    "word_counts = pd.DataFrame.from_dict(frequency.items())"
   ]
  },
  {
   "cell_type": "code",
   "execution_count": null,
   "metadata": {},
   "outputs": [],
   "source": [
    "word_counts.columns = ['Word','Word_Count']"
   ]
  },
  {
   "cell_type": "code",
   "execution_count": null,
   "metadata": {},
   "outputs": [
    {
     "data": {
      "text/html": [
       "<div>\n",
       "<style scoped>\n",
       "    .dataframe tbody tr th:only-of-type {\n",
       "        vertical-align: middle;\n",
       "    }\n",
       "\n",
       "    .dataframe tbody tr th {\n",
       "        vertical-align: top;\n",
       "    }\n",
       "\n",
       "    .dataframe thead th {\n",
       "        text-align: right;\n",
       "    }\n",
       "</style>\n",
       "<table border=\"1\" class=\"dataframe\">\n",
       "  <thead>\n",
       "    <tr style=\"text-align: right;\">\n",
       "      <th></th>\n",
       "      <th>Word</th>\n",
       "      <th>Word_Count</th>\n",
       "    </tr>\n",
       "  </thead>\n",
       "  <tbody>\n",
       "    <tr>\n",
       "      <th>53</th>\n",
       "      <td>,</td>\n",
       "      <td>8</td>\n",
       "    </tr>\n",
       "    <tr>\n",
       "      <th>9</th>\n",
       "      <td>and</td>\n",
       "      <td>8</td>\n",
       "    </tr>\n",
       "    <tr>\n",
       "      <th>22</th>\n",
       "      <td>.</td>\n",
       "      <td>7</td>\n",
       "    </tr>\n",
       "    <tr>\n",
       "      <th>12</th>\n",
       "      <td>of</td>\n",
       "      <td>6</td>\n",
       "    </tr>\n",
       "    <tr>\n",
       "      <th>20</th>\n",
       "      <td>in</td>\n",
       "      <td>6</td>\n",
       "    </tr>\n",
       "    <tr>\n",
       "      <th>4</th>\n",
       "      <td>EU</td>\n",
       "      <td>5</td>\n",
       "    </tr>\n",
       "    <tr>\n",
       "      <th>7</th>\n",
       "      <td>a</td>\n",
       "      <td>4</td>\n",
       "    </tr>\n",
       "    <tr>\n",
       "      <th>64</th>\n",
       "      <td>the</td>\n",
       "      <td>4</td>\n",
       "    </tr>\n",
       "    <tr>\n",
       "      <th>25</th>\n",
       "      <td>have</td>\n",
       "      <td>3</td>\n",
       "    </tr>\n",
       "    <tr>\n",
       "      <th>15</th>\n",
       "      <td>states</td>\n",
       "      <td>3</td>\n",
       "    </tr>\n",
       "    <tr>\n",
       "      <th>14</th>\n",
       "      <td>member</td>\n",
       "      <td>3</td>\n",
       "    </tr>\n",
       "    <tr>\n",
       "      <th>0</th>\n",
       "      <td>The</td>\n",
       "      <td>3</td>\n",
       "    </tr>\n",
       "    <tr>\n",
       "      <th>5</th>\n",
       "      <td>)</td>\n",
       "      <td>3</td>\n",
       "    </tr>\n",
       "    <tr>\n",
       "      <th>3</th>\n",
       "      <td>(</td>\n",
       "      <td>3</td>\n",
       "    </tr>\n",
       "    <tr>\n",
       "      <th>61</th>\n",
       "      <td>policies</td>\n",
       "      <td>2</td>\n",
       "    </tr>\n",
       "    <tr>\n",
       "      <th>57</th>\n",
       "      <td>to</td>\n",
       "      <td>2</td>\n",
       "    </tr>\n",
       "    <tr>\n",
       "      <th>71</th>\n",
       "      <td>within</td>\n",
       "      <td>2</td>\n",
       "    </tr>\n",
       "    <tr>\n",
       "      <th>72</th>\n",
       "      <td>;</td>\n",
       "      <td>2</td>\n",
       "    </tr>\n",
       "    <tr>\n",
       "      <th>52</th>\n",
       "      <td>matters</td>\n",
       "      <td>2</td>\n",
       "    </tr>\n",
       "    <tr>\n",
       "      <th>51</th>\n",
       "      <td>those</td>\n",
       "      <td>2</td>\n",
       "    </tr>\n",
       "  </tbody>\n",
       "</table>\n",
       "</div>"
      ],
      "text/plain": [
       "        Word  Word_Count\n",
       "53         ,           8\n",
       "9        and           8\n",
       "22         .           7\n",
       "12        of           6\n",
       "20        in           6\n",
       "4         EU           5\n",
       "7          a           4\n",
       "64       the           4\n",
       "25      have           3\n",
       "15    states           3\n",
       "14    member           3\n",
       "0        The           3\n",
       "5          )           3\n",
       "3          (           3\n",
       "61  policies           2\n",
       "57        to           2\n",
       "71    within           2\n",
       "72         ;           2\n",
       "52   matters           2\n",
       "51     those           2"
      ]
     },
     "execution_count": 104,
     "metadata": {},
     "output_type": "execute_result"
    }
   ],
   "source": [
    "word_counts.sort_values(by='Word_Count', ascending=False).head(20)"
   ]
  }
 ],
 "metadata": {
  "kernelspec": {
   "display_name": "nlpenv",
   "language": "python",
   "name": "python3"
  },
  "language_info": {
   "codemirror_mode": {
    "name": "ipython",
    "version": 3
   },
   "file_extension": ".py",
   "mimetype": "text/x-python",
   "name": "python",
   "nbconvert_exporter": "python",
   "pygments_lexer": "ipython3",
   "version": "3.10.15"
  }
 },
 "nbformat": 4,
 "nbformat_minor": 2
}
