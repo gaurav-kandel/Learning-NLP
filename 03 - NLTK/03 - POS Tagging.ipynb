{
 "cells": [
  {
   "cell_type": "markdown",
   "metadata": {},
   "source": [
    "***\n",
    "\n",
    "Welcome to this notebook where we embark on an exciting exploration of Part-Of-Speech (POS) tagging—an essential concept in natural language processing (NLP) that unveils the functional role of each word within a sentence. POS tagging plays a vital role in understanding the grammatical structure of a text, enabling us to extract valuable insights and perform a wide range of NLP tasks.\n",
    "\n",
    "By analyzing the POS tags assigned to words, we can discern their syntactic category, such as nouns, verbs, adjectives, adverbs, pronouns, prepositions, conjunctions, and more. This information helps us to grasp the relationships between words, decipher the grammatical structure of sentences, and extract meaningful information from texts.\n",
    "<br>\n",
    "***"
   ]
  },
  {
   "cell_type": "markdown",
   "metadata": {},
   "source": [
    "### Index:"
   ]
  },
  {
   "cell_type": "markdown",
   "metadata": {},
   "source": [
    "[1.1 - Pos Tagging](#1.1---Pos-Tagging)\n",
    "<br>\n",
    "[1.2 - Use Case: Checking Tag Frequency](#1.2---Use-Case:-Checking-Tag-Frequency)\n",
    "<br>\n",
    "[1.3 - Tagging and Lemmatization](#1.3---Tagging-and-Lemmatization)"
   ]
  },
  {
   "cell_type": "code",
   "execution_count": 8,
   "metadata": {},
   "outputs": [],
   "source": [
    "import nltk"
   ]
  },
  {
   "cell_type": "markdown",
   "metadata": {},
   "source": [
    "Let's start by defining a long sentence - again, we will use the European Union definition:"
   ]
  },
  {
   "cell_type": "code",
   "execution_count": 9,
   "metadata": {},
   "outputs": [],
   "source": [
    "eu_definition = '''\n",
    "The European Union (EU) is a political and economic union of 27 member states that are located primarily \n",
    "in Europe. Its members have a combined area of 4,233,255.3 km2 (1,634,469.0 sq mi) and an estimated total \n",
    "population of about 447 million. The EU has developed an internal single market through a standardised system of \n",
    "laws that apply in all member states in those matters, and only those matters, where members have agreed to act as one. \n",
    "EU policies aim to ensure the free movement of people, goods, services and capital within the internal market;\n",
    "enact legislation in justice and home affairs; and maintain common policies on trade, agriculture, \n",
    "fisheries and regional development. Passport controls have been abolished for travel within the Schengen Area.\n",
    "A monetary union was established in 1999, coming into full force in 2002, and is composed of 19 EU \n",
    "member states which use the euro currency. The EU has often been described as a sui generis political entity \n",
    "(without precedent or comparison).\n",
    "'''"
   ]
  },
  {
   "cell_type": "markdown",
   "metadata": {},
   "source": [
    "### 1 - Tagging Words"
   ]
  },
  {
   "cell_type": "markdown",
   "metadata": {},
   "source": [
    "As we've seen in our Lemmatization lecture - words may have some linguistic `tags` attached to them. How do we exactly tag words automatically without giving them explicitly to the pos_tagger?"
   ]
  },
  {
   "cell_type": "markdown",
   "metadata": {},
   "source": [
    "### 1.1 - Pos Tagging"
   ]
  },
  {
   "cell_type": "markdown",
   "metadata": {},
   "source": [
    "***\n",
    "Let's first understand the concept of Part-of-Speech (POS) Tagging:\n",
    "- part-of-speech tagging (POS tagging or PoS tagging or POST), also called grammatical tagging is the process of marking up a word in a text as corresponding to a particular part of speech, based on both its definition and its context.\n",
    "<br>\n",
    "***"
   ]
  },
  {
   "cell_type": "markdown",
   "metadata": {},
   "source": [
    "**In Layman's terms, it really means to categorize words into their function in a sentence, such as: Verbs, nouns, adverbs, adjectives, etc.**"
   ]
  },
  {
   "cell_type": "markdown",
   "metadata": {},
   "source": [
    "Let's see how! As usual, starting with tokenization:"
   ]
  },
  {
   "cell_type": "code",
   "execution_count": 10,
   "metadata": {},
   "outputs": [],
   "source": [
    "tokenized_eu = nltk.tokenize.sent_tokenize(eu_definition)"
   ]
  },
  {
   "cell_type": "markdown",
   "metadata": {},
   "source": [
    "Let's tokenize the first sentence of `tokenized_eu` into words:"
   ]
  },
  {
   "cell_type": "code",
   "execution_count": 11,
   "metadata": {},
   "outputs": [
    {
     "data": {
      "text/plain": [
       "['The',\n",
       " 'European',\n",
       " 'Union',\n",
       " '(',\n",
       " 'EU',\n",
       " ')',\n",
       " 'is',\n",
       " 'a',\n",
       " 'political',\n",
       " 'and',\n",
       " 'economic',\n",
       " 'union',\n",
       " 'of',\n",
       " '27',\n",
       " 'member',\n",
       " 'states',\n",
       " 'that',\n",
       " 'are',\n",
       " 'located',\n",
       " 'primarily',\n",
       " 'in',\n",
       " 'Europe',\n",
       " '.']"
      ]
     },
     "execution_count": 11,
     "metadata": {},
     "output_type": "execute_result"
    }
   ],
   "source": [
    "tokenized_word_eu = nltk.tokenize.word_tokenize(tokenized_eu[0])\n",
    "tokenized_word_eu"
   ]
  },
  {
   "cell_type": "code",
   "execution_count": 12,
   "metadata": {
    "scrolled": true
   },
   "outputs": [
    {
     "data": {
      "text/plain": [
       "[('The', 'DT'),\n",
       " ('European', 'NNP'),\n",
       " ('Union', 'NNP'),\n",
       " ('(', '('),\n",
       " ('EU', 'NNP'),\n",
       " (')', ')'),\n",
       " ('is', 'VBZ'),\n",
       " ('a', 'DT'),\n",
       " ('political', 'JJ'),\n",
       " ('and', 'CC'),\n",
       " ('economic', 'JJ'),\n",
       " ('union', 'NN'),\n",
       " ('of', 'IN'),\n",
       " ('27', 'CD'),\n",
       " ('member', 'NN'),\n",
       " ('states', 'NNS'),\n",
       " ('that', 'WDT'),\n",
       " ('are', 'VBP'),\n",
       " ('located', 'VBN'),\n",
       " ('primarily', 'RB'),\n",
       " ('in', 'IN'),\n",
       " ('Europe', 'NNP'),\n",
       " ('.', '.')]"
      ]
     },
     "execution_count": 12,
     "metadata": {},
     "output_type": "execute_result"
    }
   ],
   "source": [
    "nltk.pos_tag(tokenized_word_eu)"
   ]
  },
  {
   "cell_type": "markdown",
   "metadata": {},
   "source": [
    "**The NLTK pos_tag uses the Penn Treebank tagging (https://www.ling.upenn.edu/courses/Fall_2003/ling001/penn_treebank_pos.html) and it is based on a pre-trained PerceptronTagger model (https://explosion.ai/blog/part-of-speech-pos-tagger-in-python).**"
   ]
  },
  {
   "cell_type": "markdown",
   "metadata": {},
   "source": [
    "Let's check some help on the tags:"
   ]
  },
  {
   "cell_type": "code",
   "execution_count": 21,
   "metadata": {
    "scrolled": true
   },
   "outputs": [
    {
     "name": "stderr",
     "output_type": "stream",
     "text": [
      "[nltk_data] Downloading package tagsets_json to\n",
      "[nltk_data]     /Users/gauravkandel/nltk_data...\n",
      "[nltk_data]   Unzipping help/tagsets_json.zip.\n"
     ]
    },
    {
     "data": {
      "text/plain": [
       "True"
      ]
     },
     "execution_count": 21,
     "metadata": {},
     "output_type": "execute_result"
    }
   ],
   "source": [
    "import nltk\n",
    "nltk.download('tagsets_json')"
   ]
  },
  {
   "cell_type": "markdown",
   "metadata": {},
   "source": [
    "Some resources from NLTK are not available even after importing NLTK - we have to download them:"
   ]
  },
  {
   "cell_type": "code",
   "execution_count": 23,
   "metadata": {
    "scrolled": false
   },
   "outputs": [
    {
     "name": "stdout",
     "output_type": "stream",
     "text": [
      "WDT: WH-determiner\n",
      "    that what whatever which whichever\n"
     ]
    }
   ],
   "source": [
    "nltk.help.upenn_tagset('WDT')"
   ]
  },
  {
   "cell_type": "markdown",
   "metadata": {},
   "source": [
    "Now we can run the help command:"
   ]
  },
  {
   "cell_type": "code",
   "execution_count": 24,
   "metadata": {
    "scrolled": true
   },
   "outputs": [
    {
     "name": "stdout",
     "output_type": "stream",
     "text": [
      "WDT: WH-determiner\n",
      "    that what whatever which whichever\n"
     ]
    }
   ],
   "source": [
    "nltk.help.upenn_tagset('WDT')"
   ]
  },
  {
   "cell_type": "markdown",
   "metadata": {},
   "source": [
    "**WDT is a \"What\" determiner** - first, we see the description and then we have some examples of common words that receive this tag."
   ]
  },
  {
   "cell_type": "code",
   "execution_count": 25,
   "metadata": {},
   "outputs": [
    {
     "name": "stdout",
     "output_type": "stream",
     "text": [
      "NNP: noun, proper, singular\n",
      "    Motown Venneboerger Czestochwa Ranzer Conchita Trumplane Christos\n",
      "    Oceanside Escobar Kreisler Sawyer Cougar Yvette Ervin ODI Darryl CTCA\n",
      "    Shannon A.K.C. Meltex Liverpool ...\n"
     ]
    }
   ],
   "source": [
    "nltk.help.upenn_tagset('NNP')"
   ]
  },
  {
   "cell_type": "markdown",
   "metadata": {},
   "source": [
    "If you have some questions regarding other tags you can use the command above on any tagger."
   ]
  },
  {
   "cell_type": "markdown",
   "metadata": {},
   "source": [
    "Apart from relying on the pre-trained `PerceptronTagger`, we can also try to train our own POS Taggers:"
   ]
  },
  {
   "cell_type": "code",
   "execution_count": 26,
   "metadata": {},
   "outputs": [],
   "source": [
    "from nltk.tag import UnigramTagger\n",
    "from nltk.tag import BigramTagger\n",
    "from nltk.tag import TrigramTagger"
   ]
  },
  {
   "cell_type": "markdown",
   "metadata": {},
   "source": [
    "We will explore `Uni-Grams`, `Bi-Grams` and `Tri-Grams` in subsequent lectures but just think of both models above as different \"approaches\" to tag data:\n",
    "- Uni-Grams consider only the word in the training process.\n",
    "- Bi-Grams consider also \"previous\" words and context in the training process."
   ]
  },
  {
   "cell_type": "markdown",
   "metadata": {},
   "source": [
    "To train a model we have to access tagged data, where we know the real label or tag. "
   ]
  },
  {
   "cell_type": "code",
   "execution_count": 27,
   "metadata": {},
   "outputs": [],
   "source": [
    "from nltk.corpus import brown"
   ]
  },
  {
   "cell_type": "markdown",
   "metadata": {},
   "source": [
    "NLTK has corpus that we can use for these purposes. For example, the **Brown Corpus** is something that we can use with tagged data that we can rely on. The Brown Corpus contains more than a million word textual information and is divided into the following categories:\n",
    "- news\n",
    "- editorial\n",
    "- reviews\n",
    "- religion\n",
    "- hobbies\n",
    "- lore\n",
    "- belles_lettres\n",
    "- government\n",
    "- learned\n",
    "- fiction\n",
    "- mystery\n",
    "- science_fiction\n",
    "- adventure\n",
    "- romance\n",
    "- humor"
   ]
  },
  {
   "cell_type": "code",
   "execution_count": 29,
   "metadata": {},
   "outputs": [
    {
     "name": "stderr",
     "output_type": "stream",
     "text": [
      "[nltk_data] Downloading package brown to\n",
      "[nltk_data]     /Users/gauravkandel/nltk_data...\n",
      "[nltk_data]   Unzipping corpora/brown.zip.\n"
     ]
    },
    {
     "data": {
      "text/plain": [
       "True"
      ]
     },
     "execution_count": 29,
     "metadata": {},
     "output_type": "execute_result"
    }
   ],
   "source": [
    "nltk.download('brown')"
   ]
  },
  {
   "cell_type": "code",
   "execution_count": 30,
   "metadata": {},
   "outputs": [],
   "source": [
    "brown_tagged_sents = brown.tagged_sents(categories='news')"
   ]
  },
  {
   "cell_type": "code",
   "execution_count": 31,
   "metadata": {
    "scrolled": false
   },
   "outputs": [
    {
     "data": {
      "text/plain": [
       "[[('The', 'AT'), ('Fulton', 'NP-TL'), ('County', 'NN-TL'), ('Grand', 'JJ-TL'), ('Jury', 'NN-TL'), ('said', 'VBD'), ('Friday', 'NR'), ('an', 'AT'), ('investigation', 'NN'), ('of', 'IN'), (\"Atlanta's\", 'NP$'), ('recent', 'JJ'), ('primary', 'NN'), ('election', 'NN'), ('produced', 'VBD'), ('``', '``'), ('no', 'AT'), ('evidence', 'NN'), (\"''\", \"''\"), ('that', 'CS'), ('any', 'DTI'), ('irregularities', 'NNS'), ('took', 'VBD'), ('place', 'NN'), ('.', '.')], [('The', 'AT'), ('jury', 'NN'), ('further', 'RBR'), ('said', 'VBD'), ('in', 'IN'), ('term-end', 'NN'), ('presentments', 'NNS'), ('that', 'CS'), ('the', 'AT'), ('City', 'NN-TL'), ('Executive', 'JJ-TL'), ('Committee', 'NN-TL'), (',', ','), ('which', 'WDT'), ('had', 'HVD'), ('over-all', 'JJ'), ('charge', 'NN'), ('of', 'IN'), ('the', 'AT'), ('election', 'NN'), (',', ','), ('``', '``'), ('deserves', 'VBZ'), ('the', 'AT'), ('praise', 'NN'), ('and', 'CC'), ('thanks', 'NNS'), ('of', 'IN'), ('the', 'AT'), ('City', 'NN-TL'), ('of', 'IN-TL'), ('Atlanta', 'NP-TL'), (\"''\", \"''\"), ('for', 'IN'), ('the', 'AT'), ('manner', 'NN'), ('in', 'IN'), ('which', 'WDT'), ('the', 'AT'), ('election', 'NN'), ('was', 'BEDZ'), ('conducted', 'VBN'), ('.', '.')], ...]"
      ]
     },
     "execution_count": 31,
     "metadata": {},
     "output_type": "execute_result"
    }
   ],
   "source": [
    "brown_tagged_sents"
   ]
  },
  {
   "cell_type": "markdown",
   "metadata": {},
   "source": [
    "We can also retrieved the tagged sentences from other categories:"
   ]
  },
  {
   "cell_type": "code",
   "execution_count": 32,
   "metadata": {},
   "outputs": [],
   "source": [
    "brown_tagged_sents_reviews = brown.tagged_sents(categories='reviews')"
   ]
  },
  {
   "cell_type": "markdown",
   "metadata": {},
   "source": [
    "Dividing into train and test split is a common procedure when training any model:"
   ]
  },
  {
   "cell_type": "code",
   "execution_count": 33,
   "metadata": {},
   "outputs": [],
   "source": [
    "train_data = brown_tagged_sents_reviews[:int(len(brown_tagged_sents_reviews) * 0.8)]\n",
    "test_data = brown_tagged_sents_reviews[int(len(brown_tagged_sents_reviews) * 0.8):]"
   ]
  },
  {
   "cell_type": "markdown",
   "metadata": {},
   "source": [
    "**Let's Train our Taggers on Unigrams, BiGrams and TriGrams:**"
   ]
  },
  {
   "cell_type": "code",
   "execution_count": 34,
   "metadata": {},
   "outputs": [
    {
     "name": "stdout",
     "output_type": "stream",
     "text": [
      "0.7023356181772024\n"
     ]
    },
    {
     "name": "stderr",
     "output_type": "stream",
     "text": [
      "/var/folders/jx/vvsd6vqx63ndl2vy36_hjmf00000gn/T/ipykernel_13307/3165428510.py:2: DeprecationWarning: \n",
      "  Function evaluate() has been deprecated.  Use accuracy(gold)\n",
      "  instead.\n",
      "  print (unigram_tagger.evaluate(test_data))\n"
     ]
    }
   ],
   "source": [
    "unigram_tagger = UnigramTagger(train_data)\n",
    "print (unigram_tagger.evaluate(test_data))"
   ]
  },
  {
   "cell_type": "markdown",
   "metadata": {},
   "source": [
    "The unigram tagger checks the real tag on the training dataset and assigns the most frequent tag we assign to word:\n",
    "<br>\n",
    "<br>\n",
    "    - As an example, if the word `frequent` (that can be a verb and an adjective) appears in our training set more often as a verb, we consider it a verb on the prediction."
   ]
  },
  {
   "cell_type": "code",
   "execution_count": 35,
   "metadata": {},
   "outputs": [
    {
     "name": "stdout",
     "output_type": "stream",
     "text": [
      "0.7076669205382077\n"
     ]
    },
    {
     "name": "stderr",
     "output_type": "stream",
     "text": [
      "/var/folders/jx/vvsd6vqx63ndl2vy36_hjmf00000gn/T/ipykernel_13307/435903645.py:2: DeprecationWarning: \n",
      "  Function evaluate() has been deprecated.  Use accuracy(gold)\n",
      "  instead.\n",
      "  print (bigram_tagger.evaluate(test_data))\n"
     ]
    }
   ],
   "source": [
    "bigram_tagger = BigramTagger(train_data, backoff=unigram_tagger)\n",
    "print (bigram_tagger.evaluate(test_data))"
   ]
  },
  {
   "cell_type": "markdown",
   "metadata": {},
   "source": [
    "Bigram does not only bases itself on the word but also takes into account the preceding tag. `backoff` enables us to use the `unigram_tagger` if we don't find both words in the data."
   ]
  },
  {
   "cell_type": "code",
   "execution_count": 36,
   "metadata": {},
   "outputs": [
    {
     "name": "stdout",
     "output_type": "stream",
     "text": [
      "0.708047727849708\n"
     ]
    },
    {
     "name": "stderr",
     "output_type": "stream",
     "text": [
      "/var/folders/jx/vvsd6vqx63ndl2vy36_hjmf00000gn/T/ipykernel_13307/650489799.py:2: DeprecationWarning: \n",
      "  Function evaluate() has been deprecated.  Use accuracy(gold)\n",
      "  instead.\n",
      "  print (trigram_tagger.evaluate(test_data))\n"
     ]
    }
   ],
   "source": [
    "trigram_tagger = TrigramTagger(train_data, backoff=bigram_tagger)\n",
    "print (trigram_tagger.evaluate(test_data))"
   ]
  },
  {
   "cell_type": "code",
   "execution_count": 37,
   "metadata": {},
   "outputs": [
    {
     "data": {
      "text/plain": [
       "[('Hi', None),\n",
       " ('my', 'PP$'),\n",
       " ('name', 'NN'),\n",
       " ('is', 'BEZ'),\n",
       " ('Ivo', None),\n",
       " ('and', 'CC'),\n",
       " ('Im', None),\n",
       " ('teaching', None),\n",
       " ('NLP', None)]"
      ]
     },
     "execution_count": 37,
     "metadata": {},
     "output_type": "execute_result"
    }
   ],
   "source": [
    "trigram_tagger.tag(['Hi','my','name','is','Ivo','and','Im','teaching','NLP'])"
   ]
  },
  {
   "cell_type": "code",
   "execution_count": 38,
   "metadata": {},
   "outputs": [
    {
     "data": {
      "text/plain": [
       "[('Hi', 'NNP'),\n",
       " ('my', 'PRP$'),\n",
       " ('name', 'NN'),\n",
       " ('is', 'VBZ'),\n",
       " ('Ivo', 'NNP'),\n",
       " ('and', 'CC'),\n",
       " ('Im', 'NNP'),\n",
       " ('teaching', 'NN'),\n",
       " ('NLP', 'NNP')]"
      ]
     },
     "execution_count": 38,
     "metadata": {},
     "output_type": "execute_result"
    }
   ],
   "source": [
    "nltk.pos_tag(['Hi','my','name','is','Ivo','and','Im','teaching','NLP'])"
   ]
  },
  {
   "cell_type": "markdown",
   "metadata": {},
   "source": [
    "Let's see how our taggers react to ambiguous words. The word **frequent can be used in two ways**:\n",
    "- \"A frequent name\": `Adjective`\n",
    "- \"I frequent that pub\": `Noun`"
   ]
  },
  {
   "cell_type": "code",
   "execution_count": 39,
   "metadata": {},
   "outputs": [
    {
     "data": {
      "text/plain": [
       "[('A', 'DT'), ('frequent', 'JJ'), ('name', 'NN')]"
      ]
     },
     "execution_count": 39,
     "metadata": {},
     "output_type": "execute_result"
    }
   ],
   "source": [
    "# Using NLTK off-the-shelf model:\n",
    "nltk.pos_tag(['A','frequent','name'])"
   ]
  },
  {
   "cell_type": "code",
   "execution_count": 40,
   "metadata": {
    "scrolled": false
   },
   "outputs": [
    {
     "data": {
      "text/plain": [
       "[('A', 'AT'), ('frequent', 'JJ'), ('name', 'NN')]"
      ]
     },
     "execution_count": 40,
     "metadata": {},
     "output_type": "execute_result"
    }
   ],
   "source": [
    "# Using our trained model:\n",
    "trigram_tagger.tag(['A','frequent','name'])"
   ]
  },
  {
   "cell_type": "markdown",
   "metadata": {},
   "source": [
    "Let's check the other sentence - notice that our own trained model isn't able to correctly tag the sentence:"
   ]
  },
  {
   "cell_type": "code",
   "execution_count": 41,
   "metadata": {},
   "outputs": [
    {
     "data": {
      "text/plain": [
       "[('I', 'PRP'), ('frequent', 'VBP'), ('that', 'IN'), ('pub', 'NN')]"
      ]
     },
     "execution_count": 41,
     "metadata": {},
     "output_type": "execute_result"
    }
   ],
   "source": [
    "nltk.pos_tag(['I','frequent','that','pub'])"
   ]
  },
  {
   "cell_type": "code",
   "execution_count": 42,
   "metadata": {
    "scrolled": true
   },
   "outputs": [
    {
     "data": {
      "text/plain": [
       "[('I', 'PPSS'), ('frequent', 'JJ'), ('that', 'CS'), ('pub', None)]"
      ]
     },
     "execution_count": 42,
     "metadata": {},
     "output_type": "execute_result"
    }
   ],
   "source": [
    "trigram_tagger.tag(['I','frequent','that','pub'])"
   ]
  },
  {
   "cell_type": "markdown",
   "metadata": {},
   "source": [
    "### 1.2 - Use Case: Checking Tag Frequency"
   ]
  },
  {
   "cell_type": "markdown",
   "metadata": {},
   "source": [
    "As a use case, let's check the frequency of each tag in our `European Union` definition:"
   ]
  },
  {
   "cell_type": "code",
   "execution_count": 43,
   "metadata": {},
   "outputs": [],
   "source": [
    "tokenized_word_eu = nltk.tokenize.word_tokenize(' '.join(tokenized_eu))"
   ]
  },
  {
   "cell_type": "code",
   "execution_count": 44,
   "metadata": {},
   "outputs": [],
   "source": [
    "tokenized_sentence = nltk.pos_tag(tokenized_word_eu)"
   ]
  },
  {
   "cell_type": "code",
   "execution_count": 45,
   "metadata": {},
   "outputs": [],
   "source": [
    "freq_dist = nltk.FreqDist(tag for (word, tag) in tokenized_sentence)"
   ]
  },
  {
   "cell_type": "markdown",
   "metadata": {},
   "source": [
    "We can get plot the frequencies of each token:"
   ]
  },
  {
   "cell_type": "code",
   "execution_count": 48,
   "metadata": {},
   "outputs": [
    {
     "data": {
      "text/plain": [
       "<Axes: xlabel='Samples', ylabel='Counts'>"
      ]
     },
     "execution_count": 48,
     "metadata": {},
     "output_type": "execute_result"
    },
    {
     "data": {
      "image/png": "[encoded data removed]",
      "text/plain": [
       "<Figure size 640x480 with 1 Axes>"
      ]
     },
     "metadata": {},
     "output_type": "display_data"
    }
   ],
   "source": [
    "freq_dist.plot()"
   ]
  },
  {
   "cell_type": "markdown",
   "metadata": {},
   "source": [
    "And transform this into a `pandas` dataframe:"
   ]
  },
  {
   "cell_type": "code",
   "execution_count": 49,
   "metadata": {},
   "outputs": [],
   "source": [
    "import pandas as pd\n",
    "token_data = pd.DataFrame(\n",
    "    dict(freq_dist).values(), \n",
    "    index = dict(freq_dist).keys(), \n",
    "    columns=['count_token']\n",
    ")"
   ]
  },
  {
   "cell_type": "code",
   "execution_count": 50,
   "metadata": {},
   "outputs": [
    {
     "data": {
      "text/plain": [
       "<Axes: >"
      ]
     },
     "execution_count": 50,
     "metadata": {},
     "output_type": "execute_result"
    },
    {
     "data": {
      "image/png": "[encoded data removed]",
      "text/plain": [
       "<Figure size 640x480 with 1 Axes>"
      ]
     },
     "metadata": {},
     "output_type": "display_data"
    }
   ],
   "source": [
    "token_data.sort_values(by='count_token', ascending=False).plot(kind='bar')"
   ]
  },
  {
   "cell_type": "markdown",
   "metadata": {},
   "source": [
    "What are the most common tokens?"
   ]
  },
  {
   "cell_type": "code",
   "execution_count": 51,
   "metadata": {},
   "outputs": [
    {
     "name": "stdout",
     "output_type": "stream",
     "text": [
      "NN: noun, common, singular or mass\n",
      "    common-carrier cabbage knuckle-duster Casino afghan shed thermostat\n",
      "    investment slide humour falloff slick wind hyena override subhumanity\n",
      "    machinist ...\n"
     ]
    }
   ],
   "source": [
    "nltk.help.upenn_tagset('NN')"
   ]
  },
  {
   "cell_type": "code",
   "execution_count": 52,
   "metadata": {},
   "outputs": [
    {
     "name": "stdout",
     "output_type": "stream",
     "text": [
      "DT: determiner\n",
      "    all an another any both del each either every half la many much nary\n",
      "    neither no some such that the them these this those\n"
     ]
    }
   ],
   "source": [
    "nltk.help.upenn_tagset('DT')"
   ]
  },
  {
   "cell_type": "code",
   "execution_count": 53,
   "metadata": {
    "scrolled": true
   },
   "outputs": [
    {
     "name": "stdout",
     "output_type": "stream",
     "text": [
      "CC: conjunction, coordinating\n",
      "    & 'n and both but either et for less minus neither nor or plus so\n",
      "    therefore times v. versus vs. whether yet\n"
     ]
    }
   ],
   "source": [
    "nltk.help.upenn_tagset('CC')"
   ]
  },
  {
   "cell_type": "markdown",
   "metadata": {},
   "source": [
    "### 1.3 - Tagging and Lemmatization"
   ]
  },
  {
   "cell_type": "markdown",
   "metadata": {},
   "source": [
    "Remember how we had to pass a `POS` tag to the lemmatization process?"
   ]
  },
  {
   "cell_type": "markdown",
   "metadata": {},
   "source": [
    "We can now rely on our POS tagging to get the lemmas of a sentence! Unfortunately, POS tags from the brown corpus are divided into more categories than what the lemmatization is expecting.\n",
    "<br>\n",
    "<br>\n",
    "Fortunately, we can convert these categories from the POS Tag process to the anchors 'v', 'a', 'r' and 'n' pretty quickly. Let's define a function that does exactly just that:"
   ]
  },
  {
   "cell_type": "code",
   "execution_count": 54,
   "metadata": {},
   "outputs": [],
   "source": [
    "from nltk.corpus import wordnet"
   ]
  },
  {
   "cell_type": "code",
   "execution_count": 55,
   "metadata": {},
   "outputs": [],
   "source": [
    "def nltk_tag_to_wordnet(nltk_tag):\n",
    "    if nltk_tag.startswith('J'):\n",
    "        return 'a'\n",
    "    elif nltk_tag.startswith('N'):\n",
    "        return 'n'\n",
    "    elif nltk_tag.startswith('V'):\n",
    "        return 'v'\n",
    "    elif nltk_tag.startswith('R'):\n",
    "        return 'r'"
   ]
  },
  {
   "cell_type": "code",
   "execution_count": 56,
   "metadata": {},
   "outputs": [],
   "source": [
    "tokenized_word_eu = nltk.tokenize.word_tokenize(tokenized_eu[0])"
   ]
  },
  {
   "cell_type": "code",
   "execution_count": 57,
   "metadata": {},
   "outputs": [],
   "source": [
    "tags = nltk.pos_tag(tokenized_word_eu)"
   ]
  },
  {
   "cell_type": "markdown",
   "metadata": {},
   "source": [
    "We can check the tag and the returning object that will be returned via our function:"
   ]
  },
  {
   "cell_type": "code",
   "execution_count": 58,
   "metadata": {
    "scrolled": false
   },
   "outputs": [
    {
     "name": "stdout",
     "output_type": "stream",
     "text": [
      "DT None\n",
      "NNP n\n",
      "NNP n\n",
      "( None\n",
      "NNP n\n",
      ") None\n",
      "VBZ v\n",
      "DT None\n",
      "JJ a\n",
      "CC None\n",
      "JJ a\n",
      "NN n\n",
      "IN None\n",
      "CD None\n",
      "NN n\n",
      "NNS n\n",
      "WDT None\n",
      "VBP v\n",
      "VBN v\n",
      "RB r\n",
      "IN None\n",
      "NNP n\n",
      ". None\n"
     ]
    }
   ],
   "source": [
    "for tag in tags:\n",
    "    print(tag[1], nltk_tag_to_wordnet(tag[1]))"
   ]
  },
  {
   "cell_type": "markdown",
   "metadata": {},
   "source": [
    "And now let's create a process that lemmatizes the sentence based on the tags:"
   ]
  },
  {
   "cell_type": "code",
   "execution_count": 59,
   "metadata": {},
   "outputs": [],
   "source": [
    "from nltk.stem import WordNetLemmatizer \n",
    "\n",
    "lemmatizer = WordNetLemmatizer() "
   ]
  },
  {
   "cell_type": "code",
   "execution_count": 60,
   "metadata": {},
   "outputs": [],
   "source": [
    "lemmatized_sentence = []\n",
    "\n",
    "for tag in tags:\n",
    "    pos_wordnet = nltk_tag_to_wordnet(tag[1])\n",
    "    if pos_wordnet is not None:\n",
    "        lemma = lemmatizer.lemmatize(tag[0], pos_wordnet)\n",
    "    else:\n",
    "        lemma = lemmatizer.lemmatize(tag[0])\n",
    "    \n",
    "    lemmatized_sentence.append(lemma)"
   ]
  },
  {
   "cell_type": "markdown",
   "metadata": {},
   "source": [
    "The returning Lemmatized Sentence:"
   ]
  },
  {
   "cell_type": "code",
   "execution_count": 61,
   "metadata": {},
   "outputs": [
    {
     "data": {
      "text/plain": [
       "'The European Union ( EU ) be a political and economic union of 27 member state that be locate primarily in Europe .'"
      ]
     },
     "execution_count": 61,
     "metadata": {},
     "output_type": "execute_result"
    }
   ],
   "source": [
    "' '.join(lemmatized_sentence)"
   ]
  },
  {
   "cell_type": "markdown",
   "metadata": {},
   "source": [
    "The original one:"
   ]
  },
  {
   "cell_type": "code",
   "execution_count": 62,
   "metadata": {},
   "outputs": [
    {
     "data": {
      "text/plain": [
       "'\\nThe European Union (EU) is a political and economic union of 27 member states that are located primarily \\nin Europe.'"
      ]
     },
     "execution_count": 62,
     "metadata": {},
     "output_type": "execute_result"
    }
   ],
   "source": [
    "tokenized_eu[0]"
   ]
  },
  {
   "cell_type": "markdown",
   "metadata": {},
   "source": [
    "We can now build a function to generalize our lemmatizer for other sentences:"
   ]
  },
  {
   "cell_type": "code",
   "execution_count": 63,
   "metadata": {},
   "outputs": [],
   "source": [
    "def get_lemmatized_sentence(sentence: str) -> str:\n",
    "    '''\n",
    "    Returns lemmatized sentence.\n",
    "    '''\n",
    "    \n",
    "    # Tokenize\n",
    "    tokenized_sent = nltk.tokenize.word_tokenize(sentence)\n",
    "    # Tag\n",
    "    tags = nltk.pos_tag(tokenized_sent)\n",
    "    \n",
    "    # Produce Lemmas\n",
    "    lemmatized_sentence = []\n",
    "\n",
    "    for tag in tags:\n",
    "        pos_wordnet = nltk_tag_to_wordnet(tag[1])\n",
    "        if pos_wordnet is not None:\n",
    "            lemma = lemmatizer.lemmatize(tag[0], pos_wordnet)\n",
    "        else:\n",
    "            lemma = lemmatizer.lemmatize(tag[0])\n",
    "\n",
    "        lemmatized_sentence.append(lemma)\n",
    "    return ' '.join(lemmatized_sentence)"
   ]
  },
  {
   "cell_type": "code",
   "execution_count": 64,
   "metadata": {},
   "outputs": [
    {
     "name": "stdout",
     "output_type": "stream",
     "text": [
      "Its members have a combined area of 4,233,255.3 km2 (1,634,469.0 sq mi) and an estimated total \n",
      "population of about 447 million.\n",
      "\n",
      "Its member have a combined area of 4,233,255.3 km2 ( 1,634,469.0 sq mi ) and an estimate total population of about 447 million .\n"
     ]
    }
   ],
   "source": [
    "print(tokenized_eu[1]+'\\n')\n",
    "print(get_lemmatized_sentence(tokenized_eu[1]))"
   ]
  },
  {
   "cell_type": "code",
   "execution_count": 65,
   "metadata": {},
   "outputs": [
    {
     "name": "stdout",
     "output_type": "stream",
     "text": [
      "The EU has developed an internal single market through a standardised system of \n",
      "laws that apply in all member states in those matters, and only those matters, where members have agreed to act as one.\n",
      "\n",
      "The EU have develop an internal single market through a standardised system of law that apply in all member state in those matter , and only those matter , where member have agree to act a one .\n"
     ]
    }
   ],
   "source": [
    "print(tokenized_eu[2]+'\\n')\n",
    "\n",
    "print(get_lemmatized_sentence(tokenized_eu[2]))"
   ]
  },
  {
   "cell_type": "code",
   "execution_count": 66,
   "metadata": {
    "scrolled": true
   },
   "outputs": [
    {
     "name": "stdout",
     "output_type": "stream",
     "text": [
      "EU policies aim to ensure the free movement of people, goods, services and capital within the internal market;\n",
      "enact legislation in justice and home affairs; and maintain common policies on trade, agriculture, \n",
      "fisheries and regional development.\n",
      "\n",
      "EU policy aim to ensure the free movement of people , good , service and capital within the internal market ; enact legislation in justice and home affair ; and maintain common policy on trade , agriculture , fishery and regional development .\n"
     ]
    }
   ],
   "source": [
    "print(tokenized_eu[3]+'\\n')\n",
    "\n",
    "print(get_lemmatized_sentence(tokenized_eu[3]))"
   ]
  },
  {
   "cell_type": "markdown",
   "metadata": {},
   "source": [
    "As you can see, lemmatization is less aggressive than stemming. It normally retains more of the original sentence and makes our sentence a bit less normalized."
   ]
  }
 ],
 "metadata": {
  "kernelspec": {
   "display_name": "nlpenv",
   "language": "python",
   "name": "python3"
  },
  "language_info": {
   "codemirror_mode": {
    "name": "ipython",
    "version": 3
   },
   "file_extension": ".py",
   "mimetype": "text/x-python",
   "name": "python",
   "nbconvert_exporter": "python",
   "pygments_lexer": "ipython3",
   "version": "3.10.15"
  }
 },
 "nbformat": 4,
 "nbformat_minor": 2
}
