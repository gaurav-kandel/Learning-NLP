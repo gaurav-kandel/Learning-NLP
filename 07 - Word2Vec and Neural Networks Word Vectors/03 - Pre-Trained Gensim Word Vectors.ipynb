{
 "cells": [
  {
   "cell_type": "markdown",
   "metadata": {},
   "source": [
    "***\n",
    "Welcome! \n",
    "<br>\n",
    "<br>\n",
    "<br>\n",
    "In this notebook, we are going to pick up pre-trained word vectors and visualize word similarities using a techique called Principal Component Analysis.\n",
    "<br>\n",
    "<br>\n",
    "We will use the `gensim` library to load some pre-trained word embeddings - these are comparable to the ones we have developed ourselves using the wikipedia data but pre-trained on gigabytes of data.\n",
    "***"
   ]
  },
  {
   "cell_type": "code",
   "execution_count": 1,
   "metadata": {},
   "outputs": [],
   "source": [
    "from gensim.models import Word2Vec\n",
    "import numpy as np\n",
    "import matplotlib.pyplot as plt\n",
    "import seaborn"
   ]
  },
  {
   "cell_type": "markdown",
   "metadata": {},
   "source": [
    "The following code will download around 2GB of data.\n",
    "<br>\n",
    "<br>\n",
    "The vectors that we are going to load were trained on Google News. The model contains 300-dimensional vectors (number of nodes in the hidden layer) for 3 million words and phrases."
   ]
  },
  {
   "cell_type": "code",
   "execution_count": 2,
   "metadata": {},
   "outputs": [],
   "source": [
    "import gensim.downloader as api\n",
    "word2vec_model = api.load('word2vec-google-news-300')"
   ]
  },
  {
   "cell_type": "markdown",
   "metadata": {},
   "source": [
    "**Let's check some vocab from this pre-trained model:**"
   ]
  },
  {
   "cell_type": "code",
   "execution_count": 3,
   "metadata": {
    "scrolled": true
   },
   "outputs": [
    {
     "data": {
      "text/plain": [
       "['</s>',\n",
       " 'in',\n",
       " 'for',\n",
       " 'that',\n",
       " 'is',\n",
       " 'on',\n",
       " '##',\n",
       " 'The',\n",
       " 'with',\n",
       " 'said',\n",
       " 'was',\n",
       " 'the',\n",
       " 'at',\n",
       " 'not',\n",
       " 'as',\n",
       " 'it',\n",
       " 'be',\n",
       " 'from',\n",
       " 'by',\n",
       " 'are',\n",
       " 'I',\n",
       " 'have',\n",
       " 'he',\n",
       " 'will',\n",
       " 'has']"
      ]
     },
     "execution_count": 3,
     "metadata": {},
     "output_type": "execute_result"
    }
   ],
   "source": [
    "word2vec_model.index_to_key[0:25]"
   ]
  },
  {
   "cell_type": "code",
   "execution_count": 4,
   "metadata": {},
   "outputs": [
    {
     "data": {
      "text/plain": [
       "3000000"
      ]
     },
     "execution_count": 4,
     "metadata": {},
     "output_type": "execute_result"
    }
   ],
   "source": [
    "len(word2vec_model.index_to_key)"
   ]
  },
  {
   "cell_type": "markdown",
   "metadata": {},
   "source": [
    "The vocab of the model contains 3 million words, each one attached to a single word embedding. Let's visualize one of them:"
   ]
  },
  {
   "cell_type": "markdown",
   "metadata": {},
   "source": [
    "Let's get the vector for the word 'Nation':"
   ]
  },
  {
   "cell_type": "code",
   "execution_count": 5,
   "metadata": {},
   "outputs": [],
   "source": [
    "vec_nation = word2vec_model['nation']"
   ]
  },
  {
   "cell_type": "markdown",
   "metadata": {},
   "source": [
    "It is a huge vector with 300 values:"
   ]
  },
  {
   "cell_type": "code",
   "execution_count": 6,
   "metadata": {},
   "outputs": [
    {
     "data": {
      "text/plain": [
       "array([-1.27929688e-01,  1.41601562e-01,  2.69531250e-01,  2.81250000e-01,\n",
       "        5.90820312e-02, -2.05078125e-01, -6.25000000e-02, -7.42187500e-02,\n",
       "        1.40625000e-01,  4.19921875e-02, -7.95898438e-02, -1.03515625e-01,\n",
       "        3.35937500e-01,  6.93359375e-02,  1.12304688e-02,  1.69921875e-01,\n",
       "       -2.01171875e-01,  1.47460938e-01, -1.45263672e-02,  1.10839844e-01,\n",
       "        3.05175781e-02, -9.03320312e-02,  1.10473633e-02, -6.15234375e-02,\n",
       "        4.29687500e-02,  5.44433594e-02, -2.22656250e-01, -7.27539062e-02,\n",
       "       -4.22363281e-02, -8.20312500e-02,  1.36718750e-01, -8.74023438e-02,\n",
       "       -1.28906250e-01, -3.54003906e-02,  1.97265625e-01,  1.18164062e-01,\n",
       "        1.99890137e-03, -1.56250000e-01,  4.95605469e-02,  3.33984375e-01,\n",
       "       -8.74023438e-02, -8.64257812e-02,  1.08398438e-01,  1.34765625e-01,\n",
       "        1.53320312e-01,  2.04101562e-01, -5.83496094e-02,  1.27929688e-01,\n",
       "       -1.38671875e-01,  8.78906250e-02,  1.20605469e-01,  8.98437500e-02,\n",
       "        6.59179688e-02,  7.91015625e-02,  1.58203125e-01,  2.30712891e-02,\n",
       "       -2.69531250e-01, -5.51757812e-02, -1.96289062e-01,  6.00585938e-02,\n",
       "        5.24902344e-02,  7.08007812e-02, -1.15234375e-01,  4.27246094e-02,\n",
       "        1.18164062e-01,  3.51562500e-02, -1.03759766e-02, -2.00195312e-02,\n",
       "       -3.95507812e-02, -2.03857422e-02,  6.83593750e-03,  9.32617188e-02,\n",
       "       -6.88476562e-02, -1.14746094e-01,  2.07031250e-01, -2.13867188e-01,\n",
       "        3.03955078e-02,  1.25976562e-01,  2.02941895e-03,  1.10473633e-02,\n",
       "        6.64062500e-02, -2.46093750e-01,  7.12890625e-02, -2.35351562e-01,\n",
       "       -1.44653320e-02, -1.16729736e-03, -2.38281250e-01, -1.06933594e-01,\n",
       "       -3.56445312e-02,  7.71484375e-02,  1.33789062e-01, -7.95898438e-02,\n",
       "        9.66796875e-02, -2.32421875e-01, -1.84326172e-02, -2.02636719e-02,\n",
       "       -6.73828125e-02, -1.58203125e-01,  1.11816406e-01,  5.88378906e-02,\n",
       "        2.50000000e-01,  2.23632812e-01, -6.65283203e-03, -1.20605469e-01,\n",
       "       -1.70898438e-01,  1.56250000e-02,  5.27343750e-02, -4.83398438e-02,\n",
       "       -1.03515625e-01, -7.65991211e-03, -1.89208984e-02,  1.21582031e-01,\n",
       "       -1.15234375e-01,  2.94921875e-01,  2.41210938e-01,  1.01074219e-01,\n",
       "       -1.83105469e-02, -2.50000000e-01,  1.19140625e-01,  2.91748047e-02,\n",
       "       -2.12890625e-01, -8.78906250e-03, -2.10937500e-01, -2.06298828e-02,\n",
       "       -3.22265625e-02, -1.02539062e-02,  7.03125000e-02, -8.83789062e-02,\n",
       "       -1.68945312e-01, -5.29785156e-02,  8.78906250e-02, -9.09423828e-03,\n",
       "       -1.20605469e-01,  6.49414062e-02, -5.93261719e-02, -6.68945312e-02,\n",
       "        9.52148438e-02,  1.74560547e-02, -3.34472656e-02, -1.86767578e-02,\n",
       "        3.75976562e-02, -2.31445312e-01, -1.77734375e-01,  2.02148438e-01,\n",
       "        8.15429688e-02, -1.10351562e-01, -8.17871094e-03,  9.58251953e-03,\n",
       "        1.40190125e-04,  6.29882812e-02, -2.85644531e-02,  8.10546875e-02,\n",
       "        1.39648438e-01, -5.61523438e-02,  9.70458984e-03, -1.49414062e-01,\n",
       "       -3.22265625e-02, -2.17773438e-01,  1.82617188e-01,  3.58886719e-02,\n",
       "       -2.38037109e-02, -1.13281250e-01,  1.74804688e-01, -3.35937500e-01,\n",
       "        2.66113281e-02, -1.00097656e-01,  1.39648438e-01, -1.11816406e-01,\n",
       "        1.94335938e-01,  8.69140625e-02, -1.32812500e-01,  2.07031250e-01,\n",
       "        1.16210938e-01, -3.10546875e-01,  1.12304688e-01, -2.14843750e-01,\n",
       "        1.32812500e-01, -1.23291016e-02, -1.19628906e-01, -2.75390625e-01,\n",
       "       -1.68945312e-01, -2.33398438e-01,  7.71484375e-02, -8.69140625e-02,\n",
       "       -1.31835938e-02,  1.22558594e-01, -1.52343750e-01, -3.66210938e-04,\n",
       "        1.67968750e-01,  3.78906250e-01,  1.81640625e-01, -3.44238281e-02,\n",
       "        3.66210938e-02, -1.68457031e-02, -3.10546875e-01,  1.00585938e-01,\n",
       "       -1.11816406e-01,  1.38671875e-01, -1.19628906e-01, -3.71093750e-01,\n",
       "       -3.02734375e-01,  3.79943848e-03,  1.39648438e-01, -2.44140625e-02,\n",
       "       -4.46777344e-02,  1.01074219e-01, -1.41601562e-02, -1.27929688e-01,\n",
       "       -1.46484375e-01, -2.71484375e-01,  3.10058594e-02,  1.14746094e-01,\n",
       "       -3.39355469e-02,  5.81054688e-02, -4.54101562e-02,  2.06054688e-01,\n",
       "       -1.35742188e-01,  1.82617188e-01, -2.16064453e-02,  1.95312500e-01,\n",
       "        8.64257812e-02, -5.10253906e-02, -2.60925293e-03, -1.05468750e-01,\n",
       "        4.80957031e-02, -1.34765625e-01,  2.16796875e-01,  2.17285156e-02,\n",
       "        4.61425781e-02, -7.47070312e-02, -1.29882812e-01, -4.63867188e-02,\n",
       "        1.51367188e-01,  1.07421875e-01, -2.61230469e-02,  1.86523438e-01,\n",
       "       -4.85839844e-02, -8.15429688e-02, -2.97851562e-02, -5.98144531e-02,\n",
       "        6.68945312e-02, -9.96093750e-02, -1.51367188e-01, -4.51660156e-02,\n",
       "        1.48437500e-01, -5.81054688e-02,  9.37500000e-02, -1.38671875e-01,\n",
       "       -9.76562500e-02, -8.20312500e-02,  3.71093750e-02, -2.73437500e-01,\n",
       "        1.61132812e-01, -5.39550781e-02, -1.41601562e-02, -2.98828125e-01,\n",
       "        1.44531250e-01, -3.71093750e-02,  2.70996094e-02, -9.32617188e-02,\n",
       "        1.96533203e-02,  1.06811523e-03,  6.10351562e-02,  1.61132812e-01,\n",
       "        5.49316406e-02,  2.39257812e-01, -1.15356445e-02,  6.17675781e-02,\n",
       "       -2.61718750e-01,  7.22656250e-02, -7.51953125e-02,  3.01513672e-02,\n",
       "        1.16210938e-01, -6.54296875e-02, -9.27734375e-02, -5.15136719e-02,\n",
       "       -1.74804688e-01, -1.19628906e-01,  9.64355469e-03, -3.58886719e-02,\n",
       "       -1.96289062e-01, -2.36328125e-01,  1.22070312e-01,  9.17968750e-02,\n",
       "       -1.23046875e-01, -7.32421875e-02, -6.12792969e-02, -5.41992188e-02,\n",
       "        2.02148438e-01, -4.05273438e-02,  3.02124023e-03, -1.50390625e-01,\n",
       "       -2.10937500e-01, -3.63769531e-02,  3.18908691e-03, -1.02539062e-01,\n",
       "       -2.37304688e-01,  5.46264648e-03,  1.41601562e-01,  1.58203125e-01],\n",
       "      dtype=float32)"
      ]
     },
     "execution_count": 6,
     "metadata": {},
     "output_type": "execute_result"
    }
   ],
   "source": [
    "vec_nation"
   ]
  },
  {
   "cell_type": "markdown",
   "metadata": {},
   "source": [
    "Recall that the 300 is the number of nodes in the hidden layer that was used in this pre-trained model. How do we know that? **Because the shape of our arrays match the number of nodes in the hidden layer of our neural network!**"
   ]
  },
  {
   "cell_type": "markdown",
   "metadata": {},
   "source": [
    "Let's see some similarity between words - starting with America and Europe by calling the `word2vec_model.similarity` method:"
   ]
  },
  {
   "cell_type": "code",
   "execution_count": 7,
   "metadata": {},
   "outputs": [
    {
     "data": {
      "text/plain": [
       "0.6617692"
      ]
     },
     "execution_count": 7,
     "metadata": {},
     "output_type": "execute_result"
    }
   ],
   "source": [
    "word2vec_model.similarity('america', 'europe')"
   ]
  },
  {
   "cell_type": "markdown",
   "metadata": {},
   "source": [
    "What about political and economic systems and a respective country?"
   ]
  },
  {
   "cell_type": "code",
   "execution_count": 8,
   "metadata": {},
   "outputs": [
    {
     "name": "stdout",
     "output_type": "stream",
     "text": [
      "0.21713962\n",
      "0.27537563\n"
     ]
    }
   ],
   "source": [
    "print(word2vec_model.similarity('capitalism', 'russia'))\n",
    "print(word2vec_model.similarity('communism', 'russia'))"
   ]
  },
  {
   "cell_type": "code",
   "execution_count": 9,
   "metadata": {
    "scrolled": false
   },
   "outputs": [
    {
     "name": "stdout",
     "output_type": "stream",
     "text": [
      "0.23685329\n",
      "0.1949246\n"
     ]
    }
   ],
   "source": [
    "print(word2vec_model.similarity('capitalism', 'america'))\n",
    "print(word2vec_model.similarity('communism', 'america'))"
   ]
  },
  {
   "cell_type": "markdown",
   "metadata": {},
   "source": [
    "More interesting examples - using other fields such as cinema or informatics:"
   ]
  },
  {
   "cell_type": "code",
   "execution_count": 12,
   "metadata": {},
   "outputs": [
    {
     "name": "stdout",
     "output_type": "stream",
     "text": [
      "0.4673068\n",
      "0.2489389\n"
     ]
    }
   ],
   "source": [
    "print(word2vec_model.similarity('leonardo', 'oscars'))\n",
    "print(word2vec_model.similarity('ben', 'oscars'))"
   ]
  },
  {
   "cell_type": "code",
   "execution_count": 13,
   "metadata": {},
   "outputs": [
    {
     "name": "stdout",
     "output_type": "stream",
     "text": [
      "0.24305128\n",
      "0.18610561\n"
     ]
    }
   ],
   "source": [
    "print(word2vec_model.similarity('apple', 'mac'))\n",
    "print(word2vec_model.similarity('apple', 'pc'))"
   ]
  },
  {
   "cell_type": "markdown",
   "metadata": {},
   "source": [
    "One of the most interesting examples we can do using word vectors is the possibility of finding representation of meaning with the following equation:\n",
    "<br>\n",
    "$ v^{king} + v^{woman} - v^{man}   \\approx v^{queen} $\n"
   ]
  },
  {
   "cell_type": "markdown",
   "metadata": {},
   "source": [
    "The following calculation means that if we pick the vector of `king`, sum the vector of `woman` and subtract the vector of `man` we will obtain a vector that will be similar to the vector of `queen`:"
   ]
  },
  {
   "cell_type": "code",
   "execution_count": 32,
   "metadata": {},
   "outputs": [
    {
     "data": {
      "text/plain": [
       "array([ 4.29687500e-02, -1.78222656e-01, -1.29089355e-01,  1.15234375e-01,\n",
       "        2.68554688e-03, -1.02294922e-01,  1.95800781e-01, -1.79504395e-01,\n",
       "        1.95312500e-02,  4.09919739e-01, -3.68164062e-01, -3.96484375e-01,\n",
       "       -1.56738281e-01,  1.46484375e-03, -9.30175781e-02, -1.16455078e-01,\n",
       "       -5.51757812e-02, -1.07574463e-01,  7.91015625e-02,  1.98974609e-01,\n",
       "        2.38525391e-01,  6.34002686e-02, -2.17285156e-02,  0.00000000e+00,\n",
       "        4.72412109e-02, -2.17773438e-01, -3.44726562e-01,  6.37207031e-02,\n",
       "        3.16406250e-01, -1.97631836e-01,  8.59375000e-02, -8.11767578e-02,\n",
       "       -3.71093750e-02,  3.15551758e-01, -3.41796875e-01, -4.68750000e-02,\n",
       "        9.76562500e-02,  8.39843750e-02, -9.71679688e-02,  5.17578125e-02,\n",
       "       -5.00488281e-02, -2.20947266e-01,  2.29492188e-01,  1.26403809e-01,\n",
       "        2.49023438e-01,  2.09960938e-02, -1.09863281e-01,  5.81054688e-02,\n",
       "       -3.35693359e-02,  1.29577637e-01,  2.41699219e-02,  3.48129272e-02,\n",
       "       -2.60009766e-01,  2.42309570e-01, -3.21777344e-01,  1.45416260e-02,\n",
       "       -1.59179688e-01, -8.37402344e-02,  1.65039062e-01,  1.58691406e-03,\n",
       "        3.09570312e-01,  3.16406250e-01,  7.38525391e-03,  2.41210938e-01,\n",
       "        4.90722656e-02, -9.86328125e-02,  2.90527344e-02,  1.49414062e-01,\n",
       "       -4.83398438e-02,  2.35595703e-01,  2.21191406e-01,  1.25488281e-01,\n",
       "       -1.38671875e-01,  1.54296875e-01,  7.18994141e-02,  1.29882812e-01,\n",
       "       -1.05712891e-01,  6.00585938e-02,  3.14697266e-01,  1.09619141e-01,\n",
       "        8.49609375e-02,  7.71484375e-02, -2.17285156e-02,  6.11572266e-02,\n",
       "       -1.89941406e-01,  2.07519531e-01, -1.63085938e-01,  1.13525391e-01,\n",
       "        2.01171875e-01,  6.06689453e-02,  1.27929688e-01, -3.11279297e-01,\n",
       "       -2.80151367e-01, -1.55883789e-01,  4.15039062e-02,  9.87854004e-02,\n",
       "        1.69555664e-01, -3.49121094e-02,  2.08496094e-01, -9.89990234e-02,\n",
       "        4.39453125e-03, -7.27539062e-02, -4.24804688e-02, -4.09179688e-01,\n",
       "       -2.76367188e-01,  1.64062500e-01, -5.57617188e-01, -2.02199936e-01,\n",
       "        2.12158203e-01, -9.81445312e-02,  2.30773926e-01,  2.75878906e-01,\n",
       "        1.68092728e-01, -4.50439453e-02,  1.71615601e-01, -3.77075195e-01,\n",
       "       -3.52478027e-03, -3.01513672e-01,  1.74224854e-01,  3.30078125e-01,\n",
       "        2.00683594e-01,  1.17736816e-01, -1.37695312e-01, -1.07421875e-01,\n",
       "        8.61816406e-02,  1.06445312e-01,  1.44531250e-01,  3.05175781e-03,\n",
       "        1.80664062e-02,  3.73535156e-02,  7.32421875e-03,  1.32812500e-01,\n",
       "        9.61914062e-02,  3.35998535e-01,  1.81152344e-01,  2.40905762e-01,\n",
       "       -8.49609375e-02, -1.10107422e-01,  2.11914062e-01,  5.85937500e-03,\n",
       "        1.62109375e-01, -4.15527344e-01,  1.39160156e-01,  1.01562500e-01,\n",
       "        1.44531250e-01, -1.09375000e-01,  4.88281250e-02,  6.15234375e-02,\n",
       "       -1.69921875e-01,  3.28369141e-02,  5.56640625e-02,  1.47460938e-01,\n",
       "       -2.24609375e-02, -2.73925781e-01, -2.81982422e-01, -1.39160156e-01,\n",
       "       -1.81884766e-01,  9.33532715e-02,  1.21093750e-01, -5.37109375e-03,\n",
       "       -1.87500000e-01,  3.05175781e-04,  5.52734375e-01, -9.71679688e-02,\n",
       "       -1.81640625e-01, -1.51855469e-01,  7.76367188e-02, -2.38281250e-01,\n",
       "       -2.63977051e-02,  2.25555420e-01, -3.02734375e-01,  1.34765625e-01,\n",
       "        3.23242188e-01,  1.25976562e-01,  3.51562500e-02, -2.04345703e-01,\n",
       "        2.96142578e-01,  1.03149414e-01, -4.76074219e-03,  1.69189453e-01,\n",
       "       -3.50585938e-01,  2.46887207e-02, -3.90502930e-01, -2.70507812e-01,\n",
       "        1.85241699e-02,  1.04492188e-01,  2.84179688e-01,  1.35009766e-01,\n",
       "       -5.95703125e-02,  1.88232422e-01,  8.88214111e-02,  3.24707031e-02,\n",
       "       -8.98437500e-02,  5.45043945e-02,  5.65185547e-02,  1.56860352e-01,\n",
       "       -9.70458984e-03, -7.08007812e-02,  5.71289062e-02, -3.08837891e-01,\n",
       "       -1.91894531e-01,  4.83398438e-02,  5.22460938e-02, -1.59667969e-01,\n",
       "       -4.49218750e-02, -7.37304688e-02,  5.51757812e-02,  2.12402344e-01,\n",
       "        2.05322266e-01, -2.73437500e-02,  7.86132812e-02,  3.19091797e-01,\n",
       "       -1.56982422e-01, -3.92822266e-01,  4.00390625e-02,  9.93652344e-02,\n",
       "       -1.97372437e-02, -8.25195312e-02,  2.53906250e-02,  3.10668945e-02,\n",
       "       -3.63769531e-02,  1.48925781e-02,  2.20703125e-01, -5.98144531e-02,\n",
       "        6.15234375e-02, -7.14111328e-02, -4.00390625e-02, -1.03515625e-01,\n",
       "        9.22851562e-02,  2.71789551e-01, -2.30224609e-01, -2.62695312e-01,\n",
       "       -5.61523438e-01,  1.38549805e-02,  1.09863281e-01,  7.22656250e-02,\n",
       "        4.58984375e-02, -3.31802368e-02, -8.03833008e-02, -6.10351562e-03,\n",
       "        2.09960938e-01, -3.86840820e-01,  1.44645691e-01,  8.05664062e-02,\n",
       "        2.96264648e-01, -1.17187500e-02, -2.34680176e-01,  1.32019043e-01,\n",
       "        2.53906250e-01, -2.46826172e-01,  1.03759766e-01,  1.14013672e-01,\n",
       "        1.71875000e-01, -5.61523438e-03,  2.05078125e-01,  6.34765625e-02,\n",
       "       -4.51293945e-01, -2.26562500e-01, -1.03027344e-01, -1.31469727e-01,\n",
       "        3.75976562e-02,  2.70996094e-01, -2.39257812e-01,  3.80859375e-02,\n",
       "       -3.90625000e-02, -9.42382812e-02,  8.30078125e-03,  7.03125000e-02,\n",
       "        2.75390625e-01,  3.31542969e-01, -1.07421875e-02,  3.72192383e-01,\n",
       "       -1.24511719e-01,  1.94335938e-01, -1.35620117e-01, -3.09570312e-01,\n",
       "       -2.36328125e-01, -1.26953125e-02, -2.76855469e-01,  1.57714844e-01,\n",
       "        3.07617188e-01, -2.32910156e-01,  3.25439453e-01,  1.36718750e-02,\n",
       "        1.99462891e-01, -2.61840820e-02, -8.08105469e-02, -7.50732422e-02,\n",
       "       -4.11109924e-02,  1.95556641e-01, -5.64270020e-02, -2.79296875e-01,\n",
       "       -2.75390625e-01, -4.04296875e-01, -1.75781250e-02, -5.85937500e-03,\n",
       "       -7.71484375e-02,  1.33789062e-01,  2.36816406e-01,  2.01538086e-01],\n",
       "      dtype=float32)"
      ]
     },
     "execution_count": 32,
     "metadata": {},
     "output_type": "execute_result"
    }
   ],
   "source": [
    "word2vec_model['king']+word2vec_model['woman']-word2vec_model['man']"
   ]
  },
  {
   "cell_type": "markdown",
   "metadata": {},
   "source": [
    "If you search for the highest cosine similarity on our base for this resulting vector, you would get the vector `queen` as first (although this only happens because the vectors that belong to the calculation are excluded, in reality the vector king would be the most similar one).\n",
    "<br>\n",
    "<br>\n",
    "<br>\n",
    "Instead of doing an extensive search of similarities throughout the entire 3 million cosine similarities that we could find - `gensim` models already have a cool implementation for us to do that, using the `positive` and `negative` arguments in the `most_similar` method:"
   ]
  },
  {
   "cell_type": "code",
   "execution_count": 14,
   "metadata": {},
   "outputs": [],
   "source": [
    "queens_vector = word2vec_model.most_similar(\n",
    "    positive=['king', 'woman'],\n",
    "    negative=['man']\n",
    ")"
   ]
  },
  {
   "cell_type": "code",
   "execution_count": 15,
   "metadata": {},
   "outputs": [
    {
     "data": {
      "text/plain": [
       "[('queen', 0.7118193507194519),\n",
       " ('monarch', 0.6189674139022827),\n",
       " ('princess', 0.5902431011199951),\n",
       " ('crown_prince', 0.5499460697174072),\n",
       " ('prince', 0.5377321839332581),\n",
       " ('kings', 0.5236844420433044),\n",
       " ('Queen_Consort', 0.5235945582389832),\n",
       " ('queens', 0.5181134343147278),\n",
       " ('sultan', 0.5098593831062317),\n",
       " ('monarchy', 0.5087411999702454)]"
      ]
     },
     "execution_count": 15,
     "metadata": {},
     "output_type": "execute_result"
    }
   ],
   "source": [
    "queens_vector"
   ]
  },
  {
   "cell_type": "markdown",
   "metadata": {},
   "source": [
    "The most similar vectors when we compare with this example are queen, monarch and princess. Let's see more equations like these and see if they make sense - these types of equations are normally refered as `analogies`:"
   ]
  },
  {
   "cell_type": "code",
   "execution_count": 16,
   "metadata": {},
   "outputs": [],
   "source": [
    "capital_vector = word2vec_model.most_similar(\n",
    "    positive=['spain', 'england'],\n",
    "    negative=['london']\n",
    ")"
   ]
  },
  {
   "cell_type": "code",
   "execution_count": 17,
   "metadata": {},
   "outputs": [
    {
     "data": {
      "text/plain": [
       "[('madrid', 0.630977213382721),\n",
       " ('ronaldo', 0.627199113368988),\n",
       " ('portugal', 0.5919548869132996),\n",
       " ('italy', 0.5803670287132263),\n",
       " ('messi', 0.5725723505020142),\n",
       " ('real_madrid', 0.5712533593177795),\n",
       " ('juve', 0.5686383247375488),\n",
       " ('rooney', 0.5678940415382385),\n",
       " ('drogba', 0.5677210688591003),\n",
       " ('gerrard', 0.5676171779632568)]"
      ]
     },
     "execution_count": 17,
     "metadata": {},
     "output_type": "execute_result"
    }
   ],
   "source": [
    "capital_vector"
   ]
  },
  {
   "cell_type": "code",
   "execution_count": 18,
   "metadata": {},
   "outputs": [
    {
     "data": {
      "text/plain": [
       "[('ronaldo', 0.8425754904747009),\n",
       " ('drogba', 0.8401825428009033),\n",
       " ('madrid', 0.8336018323898315),\n",
       " ('man_utd', 0.8262578845024109),\n",
       " ('ronaldinho', 0.825080931186676),\n",
       " ('barca', 0.8210373520851135),\n",
       " ('juventus', 0.8209236264228821),\n",
       " ('barcelona', 0.8197412490844727),\n",
       " ('mourinho', 0.8197077512741089),\n",
       " (\"eto'o\", 0.8152968883514404)]"
      ]
     },
     "execution_count": 18,
     "metadata": {},
     "output_type": "execute_result"
    }
   ],
   "source": [
    "word2vec_model.most_similar(\n",
    "    positive=['messi', 'real_madrid']\n",
    ")"
   ]
  },
  {
   "cell_type": "code",
   "execution_count": 40,
   "metadata": {
    "scrolled": true
   },
   "outputs": [
    {
     "data": {
      "text/plain": [
       "[('cavs', 0.5942688584327698),\n",
       " ('mavs', 0.5828205347061157),\n",
       " ('celtics', 0.5777897238731384),\n",
       " ('laker', 0.5514701008796692),\n",
       " ('TWolves', 0.5313504338264465),\n",
       " ('DWade', 0.5292848348617554),\n",
       " ('lebron', 0.5235141515731812),\n",
       " ('kobe', 0.5173141360282898),\n",
       " ('DWill', 0.509246289730072),\n",
       " ('gasol', 0.5078444480895996)]"
      ]
     },
     "execution_count": 40,
     "metadata": {},
     "output_type": "execute_result"
    }
   ],
   "source": [
    "word2vec_model.most_similar(\n",
    "    positive=['lakers', 'cleveland'],\n",
    "    negative=['los_angeles']\n",
    ")"
   ]
  },
  {
   "cell_type": "markdown",
   "metadata": {},
   "source": [
    "Similarly to how we extracted the `topn` similar words in our `wikipedia` text, we can also do that in `most_similar` in `word2vec`:"
   ]
  },
  {
   "cell_type": "code",
   "execution_count": 41,
   "metadata": {
    "scrolled": true
   },
   "outputs": [
    {
     "data": {
      "text/plain": [
       "[('vehicle', 0.7821096181869507),\n",
       " ('cars', 0.7423831224441528),\n",
       " ('SUV', 0.7160962224006653),\n",
       " ('minivan', 0.6907036900520325),\n",
       " ('truck', 0.6735789775848389),\n",
       " ('Car', 0.6677608489990234),\n",
       " ('Ford_Focus', 0.667320191860199),\n",
       " ('Honda_Civic', 0.6626849174499512),\n",
       " ('Jeep', 0.651133120059967),\n",
       " ('pickup_truck', 0.6441438794136047)]"
      ]
     },
     "execution_count": 41,
     "metadata": {},
     "output_type": "execute_result"
    }
   ],
   "source": [
    "word2vec_model.most_similar(positive=['car'], topn=10)"
   ]
  },
  {
   "cell_type": "markdown",
   "metadata": {},
   "source": [
    "In `word2vec`, we can also check the least similar words (with this training data, they are not super meaningful):"
   ]
  },
  {
   "cell_type": "code",
   "execution_count": 44,
   "metadata": {
    "scrolled": true
   },
   "outputs": [
    {
     "data": {
      "text/plain": [
       "[('tells_Daily_RFT', 0.29403257369995117),\n",
       " ('Nimo_Hussein', 0.29146602749824524),\n",
       " ('Burkholz', 0.289093554019928),\n",
       " ('Patrick_Charmel', 0.27955397963523865),\n",
       " ('FOUNTAIN_INN', 0.27724912762641907)]"
      ]
     },
     "execution_count": 44,
     "metadata": {},
     "output_type": "execute_result"
    }
   ],
   "source": [
    "word2vec_model.most_similar(negative=['portugal'], topn=5)"
   ]
  },
  {
   "cell_type": "code",
   "execution_count": 45,
   "metadata": {},
   "outputs": [
    {
     "data": {
      "text/plain": [
       "[('e_mail_sports@tylerpaper.com', 0.2564525008201599),\n",
       " ('magnetic_stripe_EMV', 0.2439906746149063),\n",
       " ('edbrice@star-telegram.com', 0.23484541475772858),\n",
       " ('CONFERENCE_CALL_TODAY', 0.22490572929382324),\n",
       " ('Board_CMTX', 0.22121602296829224)]"
      ]
     },
     "execution_count": 45,
     "metadata": {},
     "output_type": "execute_result"
    }
   ],
   "source": [
    "word2vec_model.most_similar(negative=['sun'], topn=5)"
   ]
  },
  {
   "cell_type": "markdown",
   "metadata": {},
   "source": [
    "**Let's visualize our word vectors using a technique called PCA (Principal Component Analysis) (that crunches vectors in to $n$ dimensions).**"
   ]
  },
  {
   "cell_type": "code",
   "execution_count": 46,
   "metadata": {},
   "outputs": [],
   "source": [
    "from sklearn.decomposition import PCA"
   ]
  },
  {
   "cell_type": "markdown",
   "metadata": {},
   "source": [
    "Let's select two vectors - the vector for *car* and *banana*:"
   ]
  },
  {
   "cell_type": "code",
   "execution_count": 47,
   "metadata": {},
   "outputs": [],
   "source": [
    "X = [\n",
    "    word2vec_model['car'],\n",
    "    word2vec_model['banana']\n",
    "]"
   ]
  },
  {
   "cell_type": "markdown",
   "metadata": {},
   "source": [
    "We will fit a `PCA` on this data - don't worry about it too much, just know that we are crunching our vectors into 2 dimensions so that we can visualize them on a 2D plot."
   ]
  },
  {
   "cell_type": "code",
   "execution_count": 48,
   "metadata": {},
   "outputs": [],
   "source": [
    "pca = PCA(n_components=2)\n",
    "array_plot = pca.fit_transform(X)"
   ]
  },
  {
   "cell_type": "code",
   "execution_count": 49,
   "metadata": {},
   "outputs": [],
   "source": [
    "vectors = ['car','banana']"
   ]
  },
  {
   "cell_type": "code",
   "execution_count": 50,
   "metadata": {},
   "outputs": [],
   "source": [
    "def plot_array_vectors_points(word_emb, vectors_name):\n",
    "    fig, ax = plt.subplots()\n",
    "    ax.scatter(word_emb[:,0],word_emb[:, 1])\n",
    "    ax.grid(True, which='both')\n",
    "    seaborn.despine(ax=ax, offset=0)\n",
    "    plt.title('Vector Representation as Points');\n",
    "\n",
    "    for i, txt in enumerate(vectors_name):\n",
    "        ax.annotate(\n",
    "            txt,\n",
    "            (word_emb[i,0], word_emb[i,1]),\n",
    "            bbox=dict(boxstyle=\"round\", fc=\"w\")\n",
    "        )"
   ]
  },
  {
   "cell_type": "code",
   "execution_count": 51,
   "metadata": {},
   "outputs": [
    {
     "data": {
      "image/png": "[encoded data removed]",
      "text/plain": [
       "<Figure size 640x480 with 1 Axes>"
      ]
     },
     "metadata": {},
     "output_type": "display_data"
    }
   ],
   "source": [
    "plot_array_vectors_points(array_plot, vectors)"
   ]
  },
  {
   "cell_type": "markdown",
   "metadata": {},
   "source": [
    "Let's see how `word2vec` groups these vectors together:"
   ]
  },
  {
   "cell_type": "code",
   "execution_count": 52,
   "metadata": {},
   "outputs": [],
   "source": [
    "X = np.vstack([word2vec_model['car'], word2vec_model['SUV'] , word2vec_model['banana'],\n",
    "              word2vec_model['apple'] , word2vec_model['pear'], word2vec_model['Jeep'],\n",
    "              word2vec_model['magic']])\n",
    "array_plot_2 = pca.fit_transform(X)\n",
    "vectors = ['car','SUV','banana','apple','pear','Jeep','magic']"
   ]
  },
  {
   "cell_type": "code",
   "execution_count": 53,
   "metadata": {},
   "outputs": [
    {
     "data": {
      "image/png": "[encoded data removed]",
      "text/plain": [
       "<Figure size 640x480 with 1 Axes>"
      ]
     },
     "metadata": {},
     "output_type": "display_data"
    }
   ],
   "source": [
    "plot_array_vectors_points(array_plot_2, vectors)"
   ]
  },
  {
   "cell_type": "markdown",
   "metadata": {},
   "source": [
    "In conclusion, this notebook presented an exploration of Word2Vec, a powerful, pretrained model for generating word embeddings. \n",
    "<br>\n",
    "<br>\n",
    "Through this journey, we gained insights into the semantic and syntactic relationships among words, effectively visualized in high-dimensional vector spaces. It's important to note that while Word2Vec provides valuable results, it has its limitations and peculiarities, such as the unpredictability of 'least similar' words. \n",
    "<br>\n",
    "<br>\n",
    "Now, it's time to practice using Python!"
   ]
  }
 ],
 "metadata": {
  "kernelspec": {
   "display_name": "Python 3 (ipykernel)",
   "language": "python",
   "name": "python3"
  },
  "language_info": {
   "codemirror_mode": {
    "name": "ipython",
    "version": 3
   },
   "file_extension": ".py",
   "mimetype": "text/x-python",
   "name": "python",
   "nbconvert_exporter": "python",
   "pygments_lexer": "ipython3",
   "version": "3.9.13"
  }
 },
 "nbformat": 4,
 "nbformat_minor": 2
}
