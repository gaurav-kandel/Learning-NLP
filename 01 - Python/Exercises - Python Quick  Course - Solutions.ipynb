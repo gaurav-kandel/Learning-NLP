{
 "cells": [
  {
   "cell_type": "markdown",
   "metadata": {},
   "source": [
    "***\n",
    "This notebook contains the exercise solutions for the Python Quick Course Section.\n",
    "<br>\n",
    "<br>\n",
    "If you have any question refer to the Lecture **'Tutorial - How to complete the exercises'**.\n",
    "<br>\n",
    "<br>\n",
    "**NOTE: Depending on your Python version and library versions, your code may be correct but it may fail the asserts in the Validation cells - if your code matches the one on the solutions, don't worry and consider your exercise correct.**\n",
    "***\n"
   ]
  },
  {
   "cell_type": "markdown",
   "metadata": {},
   "source": [
    "# Exercise 1"
   ]
  },
  {
   "cell_type": "code",
   "execution_count": 1,
   "metadata": {},
   "outputs": [],
   "source": [
    "# Multiply the number 20 by the logarithm\n",
    "# of the number 5 and store it in a variable\n",
    "# named result_1\n",
    "import math\n",
    "result_1 = 20*math.log(5)\n",
    "\n",
    "# Multiply the value of 100*1.05 and\n",
    "# then divide the value by the multiplication\n",
    "# of 200 times the square root of 20\n",
    "\n",
    "# Hint: Check the sqrt function!\n",
    "result_2 = (100*1.05)/(200*math.sqrt(20))\n",
    "\n",
    "# Check the type of the string 'This is a string'\n",
    "# and store it in a result_3 object\n",
    "result_3 = type('This is a string')"
   ]
  },
  {
   "cell_type": "markdown",
   "metadata": {},
   "source": [
    "# Validation - Exercise 1"
   ]
  },
  {
   "cell_type": "code",
   "execution_count": 2,
   "metadata": {},
   "outputs": [
    {
     "name": "stdout",
     "output_type": "stream",
     "text": [
      "Your code is correct!\n"
     ]
    }
   ],
   "source": [
    "try:\n",
    "    result_1\n",
    "except NameError:\n",
    "    raise NameError('Did you create the object result_1?')\n",
    "    \n",
    "try:\n",
    "    result_2\n",
    "except NameError:\n",
    "    raise NameError('Did you create the object result_2?')\n",
    "    \n",
    "try:\n",
    "    result_3\n",
    "except NameError:\n",
    "    raise NameError('Did you create the object result_3?')\n",
    "\n",
    "\n",
    "assert_1 = 32.18875824868201\n",
    "assert_2 = 0.11739356881873896\n",
    "assert_3 = type('This is a string')\n",
    "    \n",
    "assert(result_1 == assert_1)\n",
    "assert(result_2 == assert_2)\n",
    "assert(result_3 == assert_3)\n",
    "\n",
    "print('Your code is correct!')"
   ]
  },
  {
   "cell_type": "markdown",
   "metadata": {},
   "source": [
    "# Exercise 2"
   ]
  },
  {
   "cell_type": "code",
   "execution_count": 3,
   "metadata": {},
   "outputs": [],
   "source": [
    "# Create a list with the elements\n",
    "# 2, 4, 10 and 'A'\n",
    "# Store the list in a list_1 example\n",
    "\n",
    "list_1 = [2,4,10,'A']\n",
    "\n",
    "# Subset the 1, 2 and 3 element\n",
    "# in the list_1 and store it in an\n",
    "# object list_1_subset\n",
    "\n",
    "list_1_subset = list_1[0:3]\n",
    "\n",
    "# Extract the distinct elements \n",
    "# from the following list [0.01,0.01,0.02,0.03]\n",
    "# Call the object set_list\n",
    "\n",
    "# Store the object in set format\n",
    "\n",
    "set_list = set([0.01,0.01,0.02,0.03])\n",
    "\n",
    "# Convert the set_list to a list \n",
    "# and store it in an object named\n",
    "# list_set_list \n",
    "\n",
    "# Hint: Check the list() function!\n",
    "list_set_list = list(set_list)"
   ]
  },
  {
   "cell_type": "markdown",
   "metadata": {},
   "source": [
    "# Validation - Exercise 2"
   ]
  },
  {
   "cell_type": "code",
   "execution_count": 4,
   "metadata": {},
   "outputs": [
    {
     "name": "stdout",
     "output_type": "stream",
     "text": [
      "Your code is correct!\n"
     ]
    }
   ],
   "source": [
    "try:\n",
    "    list_1\n",
    "except NameError:\n",
    "    raise NameError('Did you create the object list_1?')\n",
    "    \n",
    "try:\n",
    "    list_1_subset\n",
    "except NameError:\n",
    "    raise NameError('Did you create the object list_1_subset?')\n",
    "    \n",
    "try:\n",
    "    set_list\n",
    "except NameError:\n",
    "    raise NameError('Did you create the object set_list?')\n",
    "    \n",
    "try:\n",
    "    list_set_list\n",
    "except NameError:\n",
    "    raise NameError('Did you create the object list_set_list?')\n",
    "\n",
    "assert_1 = [2,4,10,'A']\n",
    "assert_2 = assert_1[0:3]\n",
    "assert_3 = set([0.01,0.01,0.02,0.03])\n",
    "assert_4 = list(assert_3)\n",
    "    \n",
    "assert(list_1 == assert_1)\n",
    "assert(list_1_subset == assert_2)\n",
    "assert(set_list == assert_3)\n",
    "assert(list_set_list == assert_4)\n",
    "\n",
    "print('Your code is correct!')"
   ]
  },
  {
   "cell_type": "markdown",
   "metadata": {},
   "source": [
    "# Exercise 3"
   ]
  },
  {
   "cell_type": "code",
   "execution_count": 5,
   "metadata": {},
   "outputs": [],
   "source": [
    "# Store a dictionary that maps a color\n",
    "# to a number with the following map scheme:\n",
    "# 'red': 1\n",
    "# 'blue': 2\n",
    "# 'green': 3\n",
    "\n",
    "# Store the mapping in a dictionary\n",
    "# named color_map \n",
    "\n",
    "color_map = {\n",
    "    'red':1,\n",
    "    'blue':2,\n",
    "    'green':3    \n",
    "}\n",
    "\n",
    "# Store the items of color_map \n",
    "# in an object named\n",
    "# color_map_items\n",
    "\n",
    "color_map_items = color_map.items()\n",
    "\n",
    "# Create a tuple with two elements\n",
    "# (1,10), (2,20) and name the object\n",
    "# my_tuple\n",
    "\n",
    "my_tuple = ((1,10),(2,20))"
   ]
  },
  {
   "cell_type": "markdown",
   "metadata": {},
   "source": [
    "# Validation - Exercise 3"
   ]
  },
  {
   "cell_type": "code",
   "execution_count": 6,
   "metadata": {},
   "outputs": [
    {
     "name": "stdout",
     "output_type": "stream",
     "text": [
      "Your code is correct!\n"
     ]
    }
   ],
   "source": [
    "try:\n",
    "    color_map\n",
    "except NameError:\n",
    "    raise NameError('Did you create the object color_map?')\n",
    "    \n",
    "try:\n",
    "    color_map_items\n",
    "except NameError:\n",
    "    raise NameError('Did you create the object color_map_items?')\n",
    "    \n",
    "try:\n",
    "    my_tuple\n",
    "except NameError:\n",
    "    raise NameError('Did you create the object my_tuple?')\n",
    "\n",
    "assert_1 = {\n",
    "    'red':1,\n",
    "    'blue':2,\n",
    "    'green':3    \n",
    "}\n",
    "\n",
    "assert_2 = assert_1.items()\n",
    "assert_3 = ((1,10),(2,20))\n",
    "    \n",
    "assert(color_map == assert_1)\n",
    "assert(color_map_items == assert_2)\n",
    "assert(my_tuple == assert_3)\n",
    "\n",
    "print('Your code is correct!')"
   ]
  },
  {
   "cell_type": "markdown",
   "metadata": {},
   "source": [
    "# Exercise 4"
   ]
  },
  {
   "cell_type": "code",
   "execution_count": 7,
   "metadata": {},
   "outputs": [],
   "source": [
    "# Define a function called \n",
    "# multiply by 10 \n",
    "# where you use as an argument\n",
    "# a number\n",
    "\n",
    "# the function will return the\n",
    "# number in the argument multiplied\n",
    "# by 10\n",
    "\n",
    "def multiply(n):\n",
    "    return n*10\n",
    "\n",
    "# define a function called\n",
    "# counting_strings\n",
    "\n",
    "# The function should take a list\n",
    "# that may or may not contain strings\n",
    "# and return the number of elements\n",
    "# in the list that are of type string\n",
    "\n",
    "# Hint 1: Remember the control flow statements!\n",
    "# For loops and if's will help you here\n",
    "\n",
    "# Hint 2: To check if some object is a string\n",
    "# you can use isinstance(element, str)\n",
    "def counting_strings(list_input):\n",
    "    count = 0\n",
    "    for element in list_input:\n",
    "        if isinstance(element, str) == True:\n",
    "            count=count+1\n",
    "    return count"
   ]
  },
  {
   "cell_type": "markdown",
   "metadata": {},
   "source": [
    "# Validation - Exercise 4"
   ]
  },
  {
   "cell_type": "code",
   "execution_count": 8,
   "metadata": {
    "scrolled": true
   },
   "outputs": [
    {
     "name": "stdout",
     "output_type": "stream",
     "text": [
      "Your code is correct!\n"
     ]
    }
   ],
   "source": [
    "try:\n",
    "    multiply\n",
    "except NameError:\n",
    "    raise NameError('Did you create the object multiply?')\n",
    "    \n",
    "try:\n",
    "    counting_strings\n",
    "except NameError:\n",
    "    raise NameError('Did you create the object counting_strings?')\n",
    "    \n",
    "    \n",
    "assert(multiply(10) == 100)\n",
    "assert(multiply(20) == 200)\n",
    "assert(counting_strings([1,2,3,'a','b']) == 2)\n",
    "assert(counting_strings([1,2,3,'a','b','c',True]) == 3)\n",
    "\n",
    "print('Your code is correct!')"
   ]
  },
  {
   "cell_type": "markdown",
   "metadata": {},
   "source": [
    "# Exercise 5"
   ]
  },
  {
   "cell_type": "code",
   "execution_count": 9,
   "metadata": {},
   "outputs": [],
   "source": [
    "# Create an array os 0's with\n",
    "# two rows and 7 columns\n",
    "# using numpy\n",
    "\n",
    "# Call the object np_zero_array\n",
    "\n",
    "# Hint: Search the documentation for the np.zeros function!\n",
    "import numpy as np\n",
    "np_zero_array = np.zeros([2, 7])\n",
    "\n",
    "# Create an array with the following format:\n",
    "# [1,2,3]\n",
    "# [4,5,6]\n",
    "# [7,8,9]\n",
    "\n",
    "# Call the object matrix_example\n",
    "\n",
    "matrix_example = np.array([\n",
    "    [1,2,3],\n",
    "    [4,5,6],\n",
    "    [7,8,9]\n",
    "])\n",
    "\n",
    "# Select the first row from the matrix\n",
    "# and all the columns\n",
    "\n",
    "# Store the object in a first_row \n",
    "# named object\n",
    "first_row = matrix_example[0,:]\n",
    "\n",
    "# Pass the matrix_example object\n",
    "# into a data frame and store the values\n",
    "# with the column names ['cola','colb','colc']\n",
    "\n",
    "# and index name ['row1','row2','row3']\n",
    "\n",
    "# Save the object with the name my_df\n",
    "import pandas as pd\n",
    "my_df = pd.DataFrame(matrix_example,\n",
    "             columns=['cola','colb','colc'],\n",
    "            index=['row1','row2','row3'])"
   ]
  },
  {
   "cell_type": "markdown",
   "metadata": {},
   "source": [
    "# Validation - Exercise 5"
   ]
  },
  {
   "cell_type": "code",
   "execution_count": 10,
   "metadata": {},
   "outputs": [
    {
     "name": "stdout",
     "output_type": "stream",
     "text": [
      "Your code is correct!\n"
     ]
    }
   ],
   "source": [
    "import numpy as np\n",
    "import pandas as pd\n",
    "\n",
    "try:\n",
    "    np_zero_array\n",
    "except NameError:\n",
    "    raise NameError('Did you create the object np_zero_array?')\n",
    "    \n",
    "try:\n",
    "    matrix_example\n",
    "except NameError:\n",
    "    raise NameError('Did you create the object matrix_example?')\n",
    "    \n",
    "try:\n",
    "    first_row\n",
    "except NameError:\n",
    "    raise NameError('Did you create the object first_row?')\n",
    "    \n",
    "try:\n",
    "    my_df\n",
    "except NameError:\n",
    "    raise NameError('Did you create the object my_df?')\n",
    "\n",
    "assert_2 = np.array([\n",
    "    [1,2,3],\n",
    "    [4,5,6],\n",
    "    [7,8,9]\n",
    "])\n",
    "\n",
    "assert(np.array_equal(np_zero_array,np.zeros([2,7])))\n",
    "assert(np.array_equal(matrix_example,assert_2))\n",
    "assert(np.array_equal(first_row,assert_2[0,:]))\n",
    "assert(my_df.equals(pd.DataFrame(matrix_example,\n",
    "             columns=['cola','colb','colc'],\n",
    "            index=['row1','row2','row3'])))\n",
    "\n",
    "print('Your code is correct!')"
   ]
  }
 ],
 "metadata": {
  "kernelspec": {
   "display_name": "Python 3 (ipykernel)",
   "language": "python",
   "name": "python3"
  },
  "language_info": {
   "codemirror_mode": {
    "name": "ipython",
    "version": 3
   },
   "file_extension": ".py",
   "mimetype": "text/x-python",
   "name": "python",
   "nbconvert_exporter": "python",
   "pygments_lexer": "ipython3",
   "version": "3.9.13"
  }
 },
 "nbformat": 4,
 "nbformat_minor": 2
}
