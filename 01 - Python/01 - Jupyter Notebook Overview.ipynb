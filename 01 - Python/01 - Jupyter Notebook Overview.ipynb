{
 "cells": [
  {
   "cell_type": "markdown",
   "metadata": {
    "id": "l2k76NsI2bn-"
   },
   "source": [
    "***\n",
    "Hi and welcome to this `Python basics course`! \n",
    "<br>\n",
    "<br>\n",
    "This crash course will serve as an introduction for courses where we will use `Python` as our programming language and will be a way for you to get introduced into it.\n",
    "***"
   ]
  },
  {
   "cell_type": "markdown",
   "metadata": {
    "id": "x0f4147B2boK"
   },
   "source": [
    "As we've said in the \"Jupyter introduction\", this is a markdown text - we use this as a way to communicate in Notebooks and we can select these types of cells in the dropdown above."
   ]
  },
  {
   "cell_type": "markdown",
   "metadata": {
    "id": "aHHhyzRm2boM"
   },
   "source": [
    "Each cell will run as you put code in it - cells interpretd as code have the the type `Code` in the dropdown."
   ]
  },
  {
   "cell_type": "markdown",
   "metadata": {
    "id": "ZAY_QQ8M2boO"
   },
   "source": [
    "When a code is executing you will see the `*` symbol near the square brackets on the left. For smaller instructions, this `*` is shown for miliseconds:"
   ]
  },
  {
   "cell_type": "code",
   "execution_count": 2,
   "metadata": {
    "colab": {
     "base_uri": "https://localhost:8080/"
    },
    "executionInfo": {
     "elapsed": 286,
     "status": "ok",
     "timestamp": 1677266248342,
     "user": {
      "displayName": "Ivo Bernardo",
      "userId": "02901330986836344785"
     },
     "user_tz": 0
    },
    "id": "JGJg_umv2boP",
    "outputId": "d0a6f355-f2b8-48f7-c77b-a717d94bd3b0"
   },
   "outputs": [
    {
     "data": {
      "text/plain": [
       "2"
      ]
     },
     "execution_count": 2,
     "metadata": {},
     "output_type": "execute_result"
    }
   ],
   "source": [
    "1+1"
   ]
  },
  {
   "cell_type": "markdown",
   "metadata": {
    "id": "TIu7BX-d2boU"
   },
   "source": [
    "The **out[]** tag will indicate the output of a specific cell. The code cell will produce a result that you can always check below."
   ]
  },
  {
   "cell_type": "code",
   "execution_count": 5,
   "metadata": {
    "id": "6PbzJ4kg2boX",
    "outputId": "090f1c10-04b4-4eb8-e429-12491656ed4b"
   },
   "outputs": [
    {
     "data": {
      "text/plain": [
       "'Hello world!'"
      ]
     },
     "execution_count": 5,
     "metadata": {},
     "output_type": "execute_result"
    }
   ],
   "source": [
    "'Hello world!'"
   ]
  },
  {
   "cell_type": "markdown",
   "metadata": {},
   "source": [
    "We can also do prints:"
   ]
  },
  {
   "cell_type": "code",
   "execution_count": 6,
   "metadata": {},
   "outputs": [
    {
     "name": "stdout",
     "output_type": "stream",
     "text": [
      "Hello world!\n"
     ]
    }
   ],
   "source": [
    "print('Hello world!')"
   ]
  }
 ],
 "metadata": {
  "colab": {
   "provenance": []
  },
  "kernelspec": {
   "display_name": "Python [conda env:pythonquickcourse] *",
   "language": "python",
   "name": "conda-env-pythonquickcourse-py"
  },
  "language_info": {
   "codemirror_mode": {
    "name": "ipython",
    "version": 3
   },
   "file_extension": ".py",
   "mimetype": "text/x-python",
   "name": "python",
   "nbconvert_exporter": "python",
   "pygments_lexer": "ipython3",
   "version": "3.7.13"
  }
 },
 "nbformat": 4,
 "nbformat_minor": 1
}
