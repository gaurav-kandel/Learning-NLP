{
 "cells": [
  {
   "cell_type": "markdown",
   "metadata": {},
   "source": [
    "***\n",
    "This notebook contains the exercise solutions for the Text Generation Introduction of the Natural Language Processing Course. \n",
    "<br>\n",
    "<br>\n",
    "If you have any question refer to the Lecture **'Tutorial - How to complete the exercises'** in section 2 of the course.\n",
    "<br>\n",
    "<br>\n",
    "**NOTE: Depending on your Python version and library versions, your code may be correct but it may fail the asserts in the Validation cells - if your code matches the one on the solutions, don't worry and consider your exercise correct.**\n",
    "***\n"
   ]
  },
  {
   "cell_type": "markdown",
   "metadata": {},
   "source": [
    "# Exercise 1 - Obtaining and Preparing Data"
   ]
  },
  {
   "cell_type": "code",
   "execution_count": 1,
   "metadata": {
    "scrolled": true
   },
   "outputs": [],
   "source": [
    "# Load the tomsawyer.txt file into a variable named tom_sawyer_text\n",
    "\n",
    "### YOUR CODE HERE\n",
    "    \n",
    "# Lowercase the tom_sawyer_text variable. Rewrite the same object\n",
    "\n",
    "### YOUR CODE HERE\n",
    "\n",
    "# Tokenize the Tom_Sawyer_Text variable into single tokens\n",
    "# You can use nltk word_tokenize\n",
    "\n",
    "# Write this into a tokenized_tom_sawyer object\n",
    "\n",
    "### YOUR CODE HERE\n",
    "\n",
    "# Create the vocab for the tokenized_tom_sawyer\n",
    "# object \n",
    "\n",
    "# save your vocab in a variable named vocab and sort it\n",
    "\n",
    "### YOUR CODE HERE"
   ]
  },
  {
   "cell_type": "markdown",
   "metadata": {},
   "source": [
    "# Validation - Exercise 1"
   ]
  },
  {
   "cell_type": "code",
   "execution_count": 2,
   "metadata": {},
   "outputs": [
    {
     "name": "stdout",
     "output_type": "stream",
     "text": [
      "Your code is correct!\n"
     ]
    }
   ],
   "source": [
    "# Exercise 2\n",
    "try:\n",
    "    tom_sawyer_text\n",
    "except NameError:\n",
    "    raise NameError('Did you create the object tom_sawyer_text_lower?')\n",
    "\n",
    "# Exercise 3\n",
    "try:\n",
    "    tokenized_tom_sawyer\n",
    "except NameError:\n",
    "    raise NameError('Did you create the object tokenized_tom_sawyer?')\n",
    "\n",
    "# Exercise 4\n",
    "try:\n",
    "    vocab\n",
    "except NameError:\n",
    "    raise NameError('Did you create the object vocab?')\n",
    "\n",
    "# Additional check for Exercise 1: Ensure tom_sawyer_text is a non-empty string\n",
    "assert isinstance(tom_sawyer_text, str), \"tom_sawyer_text is not a string.\"\n",
    "assert len(tom_sawyer_text) > 0, \"tom_sawyer_text is empty.\"\n",
    "\n",
    "# Additional check for Exercise 2: Ensure tom_sawyer_text_lower is a non-empty string\n",
    "assert isinstance(tom_sawyer_text, str), \"tom_sawyer_text_lower is not a string.\"\n",
    "assert len(tom_sawyer_text) > 0, \"tom_sawyer_text_lower is empty.\"\n",
    "\n",
    "# Additional check for Exercise 3: Ensure tokenized_tom_sawyer is a non-empty list\n",
    "assert isinstance(tokenized_tom_sawyer, list), \"tokenized_tom_sawyer is not a list.\"\n",
    "assert len(tokenized_tom_sawyer) > 0, \"tokenized_tom_sawyer is empty.\"\n",
    "\n",
    "# Additional check for Exercise 4: Ensure vocab is a non-empty list\n",
    "assert isinstance(vocab, list), \"vocab is not a list.\"\n",
    "assert len(vocab) > 0, \"vocab is empty.\"\n",
    "\n",
    "# Check first word of tokenized object: \n",
    "assert(tokenized_tom_sawyer[0]=='the')\n",
    "assert(tokenized_tom_sawyer[-1]=='.')\n",
    "\n",
    "# Check first word of vocab:\n",
    "assert(vocab[0]=='!')\n",
    "\n",
    "print('Your code is correct!')"
   ]
  },
  {
   "cell_type": "markdown",
   "metadata": {},
   "source": [
    "# Exercise 2 - Generating Transition Matrix"
   ]
  },
  {
   "cell_type": "code",
   "execution_count": 3,
   "metadata": {},
   "outputs": [],
   "source": [
    "# Create the transition matrix for the tokenized_tom_sawyer\n",
    "# call the object transition_matrix_tom_sawyer\n",
    "\n",
    "### YOUR CODE HERE"
   ]
  },
  {
   "cell_type": "markdown",
   "metadata": {},
   "source": [
    "# Validation - Exercise 2"
   ]
  },
  {
   "cell_type": "code",
   "execution_count": 4,
   "metadata": {},
   "outputs": [
    {
     "name": "stdout",
     "output_type": "stream",
     "text": [
      "Your code is correct!\n"
     ]
    }
   ],
   "source": [
    "# Exercise 5\n",
    "try:\n",
    "    transition_matrix_tom_sawyer\n",
    "except NameError:\n",
    "    raise NameError('Did you create the object transition_matrix_tom_sawyer?')\n",
    "\n",
    "# Additional check for Exercise 5: Ensure transition_matrix_tom_sawyer is a DataFrame\n",
    "assert isinstance(transition_matrix_tom_sawyer, pd.DataFrame), \"transition_matrix_tom_sawyer is not a DataFrame.\"\n",
    "\n",
    "# Additional check for Exercise 5: Ensure the dimensions of the DataFrame are correct\n",
    "assert transition_matrix_tom_sawyer.shape == (len(vocab), len(vocab)), \"Incorrect dimensions for transition_matrix_tom_sawyer.\"\n",
    "\n",
    "import numpy as np\n",
    "tolerance = 1e-6\n",
    "expected_value = 0.03841229193341869\n",
    "actual_value = transition_matrix_tom_sawyer.loc['tom', '!']\n",
    "np.testing.assert_allclose(actual_value, expected_value, rtol=tolerance, atol=tolerance, err_msg=\"Values are not approximately equal.\")\n",
    "print('Your code is correct!')"
   ]
  },
  {
   "cell_type": "markdown",
   "metadata": {},
   "source": [
    "\n",
    "# Exercise 3 - Generating Sentences"
   ]
  },
  {
   "cell_type": "code",
   "execution_count": 5,
   "metadata": {},
   "outputs": [],
   "source": [
    "# Create a function that predicts the best next token\n",
    "# based on a specific word. Randomnly sample from the top n most\n",
    "# likely tokens. Call the function get_next_token_top\n",
    "\n",
    "# Hint: don't forget to remove the words that don't have\n",
    "# any probability of co-occurring!\n",
    "\n",
    "### YOUR CODE HERE\n",
    "\n",
    "# Generate text based on the get_next_token_top function you've defined\n",
    "# before. Use the top 7 words to generate 200 tokens by starting the sentence\n",
    "# on the token \"tom\"\n",
    "\n",
    "# Save your result in an object called sentence\n",
    "\n",
    "### YOUR CODE HERE\n"
   ]
  },
  {
   "cell_type": "markdown",
   "metadata": {},
   "source": [
    "# Validation - Exercise 3"
   ]
  },
  {
   "cell_type": "code",
   "execution_count": 6,
   "metadata": {},
   "outputs": [
    {
     "name": "stdout",
     "output_type": "stream",
     "text": [
      "Your code is correct!\n"
     ]
    }
   ],
   "source": [
    "try:\n",
    "    get_next_token_top\n",
    "except NameError:\n",
    "    raise NameError('Did you create the function get_next_token_top?')\n",
    "\n",
    "assert callable(get_next_token_top), \"get_next_token_top is not a function.\"\n",
    "\n",
    "# Exercise 7\n",
    "try:\n",
    "    sentence\n",
    "except NameError:\n",
    "    raise NameError('Did you create the object sentence?')\n",
    "\n",
    "# Additional check for Exercise 7: Ensure sentence is a non-empty string\n",
    "assert isinstance(sentence, str), \"sentence is not a string.\"\n",
    "assert len(sentence) > 0, \"sentence is empty.\"\n",
    "\n",
    "# Additional check for Exercise 7: Ensure the length of the sentence is at least 200 tokens\n",
    "assert len(sentence.split()) >= 200, \"Generated sentence is not long enough.\"\n",
    "\n",
    "print('Your code is correct!')"
   ]
  },
  {
   "cell_type": "markdown",
   "metadata": {},
   "source": [
    "# Exercise 4 - Hard exercise!"
   ]
  },
  {
   "cell_type": "code",
   "execution_count": 13,
   "metadata": {},
   "outputs": [],
   "source": [
    "# generate a transition matrix but this time instead of considering\n",
    "# a single token in the index, consider a bigram token so that you\n",
    "# can always use a bigram to predict the next token\n",
    "\n",
    "# Hint: Generate bigrams using nltk bigrams and use a new\n",
    "# index in the transition matrix.\n",
    "\n",
    "# for example ('tom','sawyer') can be transformed into 'tom_sawyer' for\n",
    "# faster indexing\n",
    "\n",
    "### YOUR CODE HERE\n",
    "    \n",
    "# Normalize transition matrix - alternative way\n",
    "\n",
    "### YOUR CODE HERE\n",
    "\n",
    "# Based on the bigrams matrix, generate text based on the top 7\n",
    "# most likely tokens\n",
    "\n",
    "# start your text with \"tom sawyer\"\n",
    "\n",
    "# hint: don't forget that you need to use yth\n",
    "\n",
    "### YOUR CODE HERE\n",
    "\n",
    "# Question : What's your opinion on the generated text? Do you think it sounds better when we use\n",
    "# bigrams?\n",
    "\n",
    "# Generated sentence seems to contain more fluent and conversational text"
   ]
  },
  {
   "cell_type": "code",
   "execution_count": 15,
   "metadata": {},
   "outputs": [
    {
     "name": "stdout",
     "output_type": "stream",
     "text": [
      "Your code is correct!\n"
     ]
    }
   ],
   "source": [
    "# Additional check for Exercise 7: Ensure the length of the sentence is at least 200 tokens\n",
    "assert len(sentence.split()) >= 200, \"Generated sentence is not long enough.\"\n",
    "\n",
    "# Additional check for Exercise 9: Ensure the starting token is \"tom sawyer\"\n",
    "assert sentence.startswith(\"tom sawyer\"), \"The generated sentence does not start with 'tom sawyer'.\"\n",
    "\n",
    "print('Your code is correct!')\n"
   ]
  }
 ],
 "metadata": {
  "kernelspec": {
   "display_name": "pytorchf",
   "language": "python",
   "name": "myenv"
  },
  "language_info": {
   "codemirror_mode": {
    "name": "ipython",
    "version": 3
   },
   "file_extension": ".py",
   "mimetype": "text/x-python",
   "name": "python",
   "nbconvert_exporter": "python",
   "pygments_lexer": "ipython3",
   "version": "3.11.6"
  }
 },
 "nbformat": 4,
 "nbformat_minor": 2
}
